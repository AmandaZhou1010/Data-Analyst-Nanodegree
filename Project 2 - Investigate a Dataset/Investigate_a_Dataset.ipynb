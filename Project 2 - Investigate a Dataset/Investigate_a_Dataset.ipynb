{
 "cells": [
  {
   "cell_type": "markdown",
   "metadata": {},
   "source": [
    "# Project: TMDb Data Analysis\n",
    "\n",
    "By Amanda Zhou <br>\n",
    "August 01, 2020\n",
    "\n",
    "## Table of Contents\n",
    "<ul>\n",
    "<li><a href=\"#intro\">Introduction</a></li>\n",
    "<li><a href=\"#wrangling\">Data Wrangling</a></li>\n",
    "<li><a href=\"#eda\">Exploratory Data Analysis</a></li>\n",
    "<li><a href=\"#conclusions\">Conclusions</a></li>\n",
    "</ul>"
   ]
  },
  {
   "cell_type": "markdown",
   "metadata": {},
   "source": [
    "<a id='intro'></a>\n",
    "## Introduction\n",
    "\n",
    "> **Background and Objective**: A success movie plays an important role of discovery and communication for audience. As far as the film company is concerned, gaining tremendous profit is what they attach importance to. Therefore, in this project, we will explore which genres are most popular from year to year, and what kinds of properties (such as budget and popularity) are associated with movies that have high revenues.\n",
    "\n",
    "\n",
    "> **Data Resource**: This data set contains information about 10,000 movies published between 1960 and 2015, which collected from The Movie Database (TMDb) and included user ratings and revenue. It was also cleaned from original data on Kaggle by Udacity.\n",
    "\n",
    "> **Data Description**:<br>\n",
    "> id: ID of the movie <br>\n",
    "> imdb_id: IMDb ID of the movie on IMDb <br>\n",
    "> popularity: Popularity of the movie based on TMDb meetric, the higher the more popular <br>\n",
    "> budget: Budget of the movie in dollars <br>\n",
    "> revenue: Revenue of the movie in dollars <br>\n",
    "> original_title: Original title of the movie <br>\n",
    "> cast: A list of people who act in the movie <br>\n",
    "> homepage: Webpage of the movie <br>\n",
    "> director: Director of the movie <br>\n",
    "> tagline: Slogan of the movie <br>\n",
    "> keywords: Keywords about the movie <br>\n",
    "> overview:A general description of the movie <br>\n",
    "> runtime: Duration of the movie in minutes <br>\n",
    "> genres : Movie categorization like 'Action', 'Adventure', 'Crime','Science Fiction', 'Thriller', ‘Family’, etc.<br>\n",
    "> production_companies: A list of production companies of the movie <br>\n",
    "> release_date: Release date of the movie <br>\n",
    "> vote_count: Number of votes for the movie <br>\n",
    "> vote_average: Rating of votes for the movie <br>\n",
    "> release_year: Release year of the movie <br>\n",
    "> budget_adj: The budget of the associated movie in terms of 2010 dollars, accounting for inflation over time <br>\n",
    "> revenue_adj: The revenue of the associated movie in terms of 2010 dollars, accounting for inflation over time <br>\n",
    "\n",
    "> **Research Questions**:<br>\n",
    "> 1. Which genres of movies have been produced more?\n",
    "> 2. Which genres are most popular from year to year?\n",
    "> 3. Which genres have higher popularity?\n",
    "> 4. Which genres have higher budget and revenue?\n",
    "> 5. Which genres have higher profit?\n",
    "> 6. Which genres have higher rating?\n",
    "> 7. In general, does higher popularity have higher rating?\n",
    "> 8. In general, does higher popularity have higher profit?"
   ]
  },
  {
   "cell_type": "markdown",
   "metadata": {},
   "source": [
    "<a id='wrangling'></a>\n",
    "## Data Wrangling\n",
    "\n",
    "\n",
    "### General Properties"
   ]
  },
  {
   "cell_type": "code",
   "execution_count": 1,
   "metadata": {},
   "outputs": [
    {
     "data": {
      "text/html": [
       "<div>\n",
       "<style scoped>\n",
       "    .dataframe tbody tr th:only-of-type {\n",
       "        vertical-align: middle;\n",
       "    }\n",
       "\n",
       "    .dataframe tbody tr th {\n",
       "        vertical-align: top;\n",
       "    }\n",
       "\n",
       "    .dataframe thead th {\n",
       "        text-align: right;\n",
       "    }\n",
       "</style>\n",
       "<table border=\"1\" class=\"dataframe\">\n",
       "  <thead>\n",
       "    <tr style=\"text-align: right;\">\n",
       "      <th></th>\n",
       "      <th>id</th>\n",
       "      <th>imdb_id</th>\n",
       "      <th>popularity</th>\n",
       "      <th>budget</th>\n",
       "      <th>revenue</th>\n",
       "      <th>original_title</th>\n",
       "      <th>cast</th>\n",
       "      <th>homepage</th>\n",
       "      <th>director</th>\n",
       "      <th>tagline</th>\n",
       "      <th>...</th>\n",
       "      <th>overview</th>\n",
       "      <th>runtime</th>\n",
       "      <th>genres</th>\n",
       "      <th>production_companies</th>\n",
       "      <th>release_date</th>\n",
       "      <th>vote_count</th>\n",
       "      <th>vote_average</th>\n",
       "      <th>release_year</th>\n",
       "      <th>budget_adj</th>\n",
       "      <th>revenue_adj</th>\n",
       "    </tr>\n",
       "  </thead>\n",
       "  <tbody>\n",
       "    <tr>\n",
       "      <th>0</th>\n",
       "      <td>135397</td>\n",
       "      <td>tt0369610</td>\n",
       "      <td>32.985763</td>\n",
       "      <td>150000000</td>\n",
       "      <td>1513528810</td>\n",
       "      <td>Jurassic World</td>\n",
       "      <td>Chris Pratt|Bryce Dallas Howard|Irrfan Khan|Vi...</td>\n",
       "      <td>http://www.jurassicworld.com/</td>\n",
       "      <td>Colin Trevorrow</td>\n",
       "      <td>The park is open.</td>\n",
       "      <td>...</td>\n",
       "      <td>Twenty-two years after the events of Jurassic ...</td>\n",
       "      <td>124</td>\n",
       "      <td>Action|Adventure|Science Fiction|Thriller</td>\n",
       "      <td>Universal Studios|Amblin Entertainment|Legenda...</td>\n",
       "      <td>6/9/15</td>\n",
       "      <td>5562</td>\n",
       "      <td>6.5</td>\n",
       "      <td>2015</td>\n",
       "      <td>1.379999e+08</td>\n",
       "      <td>1.392446e+09</td>\n",
       "    </tr>\n",
       "  </tbody>\n",
       "</table>\n",
       "<p>1 rows × 21 columns</p>\n",
       "</div>"
      ],
      "text/plain": [
       "       id    imdb_id  popularity     budget     revenue  original_title  \\\n",
       "0  135397  tt0369610   32.985763  150000000  1513528810  Jurassic World   \n",
       "\n",
       "                                                cast  \\\n",
       "0  Chris Pratt|Bryce Dallas Howard|Irrfan Khan|Vi...   \n",
       "\n",
       "                        homepage         director            tagline  \\\n",
       "0  http://www.jurassicworld.com/  Colin Trevorrow  The park is open.   \n",
       "\n",
       "       ...                                                overview runtime  \\\n",
       "0      ...       Twenty-two years after the events of Jurassic ...     124   \n",
       "\n",
       "                                      genres  \\\n",
       "0  Action|Adventure|Science Fiction|Thriller   \n",
       "\n",
       "                                production_companies release_date vote_count  \\\n",
       "0  Universal Studios|Amblin Entertainment|Legenda...       6/9/15       5562   \n",
       "\n",
       "   vote_average  release_year    budget_adj   revenue_adj  \n",
       "0           6.5          2015  1.379999e+08  1.392446e+09  \n",
       "\n",
       "[1 rows x 21 columns]"
      ]
     },
     "execution_count": 1,
     "metadata": {},
     "output_type": "execute_result"
    }
   ],
   "source": [
    "# import and load dataset\n",
    "\n",
    "import numpy as np\n",
    "import pandas as pd\n",
    "import matplotlib.pyplot as plt\n",
    "import seaborn as sns\n",
    "%matplotlib inline\n",
    "\n",
    "df = pd.read_csv('tmdb-movies.csv')\n",
    "df.head(1)"
   ]
  },
  {
   "cell_type": "code",
   "execution_count": 2,
   "metadata": {},
   "outputs": [
    {
     "data": {
      "text/plain": [
       "(10866, 21)"
      ]
     },
     "execution_count": 2,
     "metadata": {},
     "output_type": "execute_result"
    }
   ],
   "source": [
    "df.shape"
   ]
  },
  {
   "cell_type": "code",
   "execution_count": 3,
   "metadata": {},
   "outputs": [
    {
     "name": "stdout",
     "output_type": "stream",
     "text": [
      "<class 'pandas.core.frame.DataFrame'>\n",
      "RangeIndex: 10866 entries, 0 to 10865\n",
      "Data columns (total 21 columns):\n",
      "id                      10866 non-null int64\n",
      "imdb_id                 10856 non-null object\n",
      "popularity              10866 non-null float64\n",
      "budget                  10866 non-null int64\n",
      "revenue                 10866 non-null int64\n",
      "original_title          10866 non-null object\n",
      "cast                    10790 non-null object\n",
      "homepage                2936 non-null object\n",
      "director                10822 non-null object\n",
      "tagline                 8042 non-null object\n",
      "keywords                9373 non-null object\n",
      "overview                10862 non-null object\n",
      "runtime                 10866 non-null int64\n",
      "genres                  10843 non-null object\n",
      "production_companies    9836 non-null object\n",
      "release_date            10866 non-null object\n",
      "vote_count              10866 non-null int64\n",
      "vote_average            10866 non-null float64\n",
      "release_year            10866 non-null int64\n",
      "budget_adj              10866 non-null float64\n",
      "revenue_adj             10866 non-null float64\n",
      "dtypes: float64(4), int64(6), object(11)\n",
      "memory usage: 1.7+ MB\n"
     ]
    }
   ],
   "source": [
    "df.info()"
   ]
  },
  {
   "cell_type": "code",
   "execution_count": 4,
   "metadata": {},
   "outputs": [
    {
     "data": {
      "text/html": [
       "<div>\n",
       "<style scoped>\n",
       "    .dataframe tbody tr th:only-of-type {\n",
       "        vertical-align: middle;\n",
       "    }\n",
       "\n",
       "    .dataframe tbody tr th {\n",
       "        vertical-align: top;\n",
       "    }\n",
       "\n",
       "    .dataframe thead th {\n",
       "        text-align: right;\n",
       "    }\n",
       "</style>\n",
       "<table border=\"1\" class=\"dataframe\">\n",
       "  <thead>\n",
       "    <tr style=\"text-align: right;\">\n",
       "      <th></th>\n",
       "      <th>id</th>\n",
       "      <th>popularity</th>\n",
       "      <th>budget</th>\n",
       "      <th>revenue</th>\n",
       "      <th>runtime</th>\n",
       "      <th>vote_count</th>\n",
       "      <th>vote_average</th>\n",
       "      <th>release_year</th>\n",
       "      <th>budget_adj</th>\n",
       "      <th>revenue_adj</th>\n",
       "    </tr>\n",
       "  </thead>\n",
       "  <tbody>\n",
       "    <tr>\n",
       "      <th>count</th>\n",
       "      <td>10866.000000</td>\n",
       "      <td>10866.000000</td>\n",
       "      <td>1.086600e+04</td>\n",
       "      <td>1.086600e+04</td>\n",
       "      <td>10866.000000</td>\n",
       "      <td>10866.000000</td>\n",
       "      <td>10866.000000</td>\n",
       "      <td>10866.000000</td>\n",
       "      <td>1.086600e+04</td>\n",
       "      <td>1.086600e+04</td>\n",
       "    </tr>\n",
       "    <tr>\n",
       "      <th>mean</th>\n",
       "      <td>66064.177434</td>\n",
       "      <td>0.646441</td>\n",
       "      <td>1.462570e+07</td>\n",
       "      <td>3.982332e+07</td>\n",
       "      <td>102.070863</td>\n",
       "      <td>217.389748</td>\n",
       "      <td>5.974922</td>\n",
       "      <td>2001.322658</td>\n",
       "      <td>1.755104e+07</td>\n",
       "      <td>5.136436e+07</td>\n",
       "    </tr>\n",
       "    <tr>\n",
       "      <th>std</th>\n",
       "      <td>92130.136561</td>\n",
       "      <td>1.000185</td>\n",
       "      <td>3.091321e+07</td>\n",
       "      <td>1.170035e+08</td>\n",
       "      <td>31.381405</td>\n",
       "      <td>575.619058</td>\n",
       "      <td>0.935142</td>\n",
       "      <td>12.812941</td>\n",
       "      <td>3.430616e+07</td>\n",
       "      <td>1.446325e+08</td>\n",
       "    </tr>\n",
       "    <tr>\n",
       "      <th>min</th>\n",
       "      <td>5.000000</td>\n",
       "      <td>0.000065</td>\n",
       "      <td>0.000000e+00</td>\n",
       "      <td>0.000000e+00</td>\n",
       "      <td>0.000000</td>\n",
       "      <td>10.000000</td>\n",
       "      <td>1.500000</td>\n",
       "      <td>1960.000000</td>\n",
       "      <td>0.000000e+00</td>\n",
       "      <td>0.000000e+00</td>\n",
       "    </tr>\n",
       "    <tr>\n",
       "      <th>25%</th>\n",
       "      <td>10596.250000</td>\n",
       "      <td>0.207583</td>\n",
       "      <td>0.000000e+00</td>\n",
       "      <td>0.000000e+00</td>\n",
       "      <td>90.000000</td>\n",
       "      <td>17.000000</td>\n",
       "      <td>5.400000</td>\n",
       "      <td>1995.000000</td>\n",
       "      <td>0.000000e+00</td>\n",
       "      <td>0.000000e+00</td>\n",
       "    </tr>\n",
       "    <tr>\n",
       "      <th>50%</th>\n",
       "      <td>20669.000000</td>\n",
       "      <td>0.383856</td>\n",
       "      <td>0.000000e+00</td>\n",
       "      <td>0.000000e+00</td>\n",
       "      <td>99.000000</td>\n",
       "      <td>38.000000</td>\n",
       "      <td>6.000000</td>\n",
       "      <td>2006.000000</td>\n",
       "      <td>0.000000e+00</td>\n",
       "      <td>0.000000e+00</td>\n",
       "    </tr>\n",
       "    <tr>\n",
       "      <th>75%</th>\n",
       "      <td>75610.000000</td>\n",
       "      <td>0.713817</td>\n",
       "      <td>1.500000e+07</td>\n",
       "      <td>2.400000e+07</td>\n",
       "      <td>111.000000</td>\n",
       "      <td>145.750000</td>\n",
       "      <td>6.600000</td>\n",
       "      <td>2011.000000</td>\n",
       "      <td>2.085325e+07</td>\n",
       "      <td>3.369710e+07</td>\n",
       "    </tr>\n",
       "    <tr>\n",
       "      <th>max</th>\n",
       "      <td>417859.000000</td>\n",
       "      <td>32.985763</td>\n",
       "      <td>4.250000e+08</td>\n",
       "      <td>2.781506e+09</td>\n",
       "      <td>900.000000</td>\n",
       "      <td>9767.000000</td>\n",
       "      <td>9.200000</td>\n",
       "      <td>2015.000000</td>\n",
       "      <td>4.250000e+08</td>\n",
       "      <td>2.827124e+09</td>\n",
       "    </tr>\n",
       "  </tbody>\n",
       "</table>\n",
       "</div>"
      ],
      "text/plain": [
       "                  id    popularity        budget       revenue       runtime  \\\n",
       "count   10866.000000  10866.000000  1.086600e+04  1.086600e+04  10866.000000   \n",
       "mean    66064.177434      0.646441  1.462570e+07  3.982332e+07    102.070863   \n",
       "std     92130.136561      1.000185  3.091321e+07  1.170035e+08     31.381405   \n",
       "min         5.000000      0.000065  0.000000e+00  0.000000e+00      0.000000   \n",
       "25%     10596.250000      0.207583  0.000000e+00  0.000000e+00     90.000000   \n",
       "50%     20669.000000      0.383856  0.000000e+00  0.000000e+00     99.000000   \n",
       "75%     75610.000000      0.713817  1.500000e+07  2.400000e+07    111.000000   \n",
       "max    417859.000000     32.985763  4.250000e+08  2.781506e+09    900.000000   \n",
       "\n",
       "         vote_count  vote_average  release_year    budget_adj   revenue_adj  \n",
       "count  10866.000000  10866.000000  10866.000000  1.086600e+04  1.086600e+04  \n",
       "mean     217.389748      5.974922   2001.322658  1.755104e+07  5.136436e+07  \n",
       "std      575.619058      0.935142     12.812941  3.430616e+07  1.446325e+08  \n",
       "min       10.000000      1.500000   1960.000000  0.000000e+00  0.000000e+00  \n",
       "25%       17.000000      5.400000   1995.000000  0.000000e+00  0.000000e+00  \n",
       "50%       38.000000      6.000000   2006.000000  0.000000e+00  0.000000e+00  \n",
       "75%      145.750000      6.600000   2011.000000  2.085325e+07  3.369710e+07  \n",
       "max     9767.000000      9.200000   2015.000000  4.250000e+08  2.827124e+09  "
      ]
     },
     "execution_count": 4,
     "metadata": {},
     "output_type": "execute_result"
    }
   ],
   "source": [
    "df.describe()"
   ]
  },
  {
   "cell_type": "markdown",
   "metadata": {},
   "source": [
    "### Dedupe Data"
   ]
  },
  {
   "cell_type": "code",
   "execution_count": 5,
   "metadata": {},
   "outputs": [
    {
     "name": "stdout",
     "output_type": "stream",
     "text": [
      "1\n"
     ]
    }
   ],
   "source": [
    "# print number of duplicates in thee dataset\n",
    "print (df.duplicated().sum())"
   ]
  },
  {
   "cell_type": "code",
   "execution_count": 6,
   "metadata": {},
   "outputs": [
    {
     "name": "stdout",
     "output_type": "stream",
     "text": [
      "0\n"
     ]
    }
   ],
   "source": [
    "# drop duplicates in the dataset\n",
    "df.drop_duplicates(inplace=True)\n",
    "\n",
    "# print number of duplicates again to confirm deduple -> should be 0\n",
    "print (df.duplicated().sum())"
   ]
  },
  {
   "cell_type": "markdown",
   "metadata": {},
   "source": [
    "### Drop Extraneous Columns"
   ]
  },
  {
   "cell_type": "code",
   "execution_count": 7,
   "metadata": {},
   "outputs": [
    {
     "data": {
      "text/html": [
       "<div>\n",
       "<style scoped>\n",
       "    .dataframe tbody tr th:only-of-type {\n",
       "        vertical-align: middle;\n",
       "    }\n",
       "\n",
       "    .dataframe tbody tr th {\n",
       "        vertical-align: top;\n",
       "    }\n",
       "\n",
       "    .dataframe thead th {\n",
       "        text-align: right;\n",
       "    }\n",
       "</style>\n",
       "<table border=\"1\" class=\"dataframe\">\n",
       "  <thead>\n",
       "    <tr style=\"text-align: right;\">\n",
       "      <th></th>\n",
       "      <th>popularity</th>\n",
       "      <th>original_title</th>\n",
       "      <th>genres</th>\n",
       "      <th>vote_count</th>\n",
       "      <th>vote_average</th>\n",
       "      <th>release_year</th>\n",
       "      <th>budget_adj</th>\n",
       "      <th>revenue_adj</th>\n",
       "    </tr>\n",
       "  </thead>\n",
       "  <tbody>\n",
       "    <tr>\n",
       "      <th>0</th>\n",
       "      <td>32.985763</td>\n",
       "      <td>Jurassic World</td>\n",
       "      <td>Action|Adventure|Science Fiction|Thriller</td>\n",
       "      <td>5562</td>\n",
       "      <td>6.5</td>\n",
       "      <td>2015</td>\n",
       "      <td>1.379999e+08</td>\n",
       "      <td>1.392446e+09</td>\n",
       "    </tr>\n",
       "  </tbody>\n",
       "</table>\n",
       "</div>"
      ],
      "text/plain": [
       "   popularity  original_title                                     genres  \\\n",
       "0   32.985763  Jurassic World  Action|Adventure|Science Fiction|Thriller   \n",
       "\n",
       "   vote_count  vote_average  release_year    budget_adj   revenue_adj  \n",
       "0        5562           6.5          2015  1.379999e+08  1.392446e+09  "
      ]
     },
     "execution_count": 7,
     "metadata": {},
     "output_type": "execute_result"
    }
   ],
   "source": [
    "# drop columns that we might not need for research questions about genres\n",
    "df.drop(['id', 'imdb_id', 'budget', 'revenue', 'cast', 'director', 'production_companies', 'homepage', 'tagline', 'keywords', 'overview', 'runtime', 'release_date'], axis=1, inplace = True)\n",
    "\n",
    "\n",
    "# rename the dataset and confirm changes\n",
    "df_genres = df\n",
    "df_genres.head(1)"
   ]
  },
  {
   "cell_type": "markdown",
   "metadata": {},
   "source": [
    "### Drop Rows with Missing Values"
   ]
  },
  {
   "cell_type": "code",
   "execution_count": 8,
   "metadata": {},
   "outputs": [
    {
     "data": {
      "text/plain": [
       "popularity         0\n",
       "original_title     0\n",
       "genres            23\n",
       "vote_count         0\n",
       "vote_average       0\n",
       "release_year       0\n",
       "budget_adj         0\n",
       "revenue_adj        0\n",
       "dtype: int64"
      ]
     },
     "execution_count": 8,
     "metadata": {},
     "output_type": "execute_result"
    }
   ],
   "source": [
    "# view missing value count for each feature in the updated dataset\n",
    "df_genres.isnull().sum()"
   ]
  },
  {
   "cell_type": "code",
   "execution_count": 9,
   "metadata": {},
   "outputs": [
    {
     "data": {
      "text/plain": [
       "False"
      ]
     },
     "execution_count": 9,
     "metadata": {},
     "output_type": "execute_result"
    }
   ],
   "source": [
    "# drop rows with any null values in the updated dataset\n",
    "df_genres.dropna(inplace = True)\n",
    "\n",
    "# checks if any of columns in the genres dataset have null values -> should print False\n",
    "df_genres.isnull().sum().any()"
   ]
  },
  {
   "cell_type": "markdown",
   "metadata": {},
   "source": [
    "### Create A Gross Column"
   ]
  },
  {
   "cell_type": "code",
   "execution_count": 10,
   "metadata": {},
   "outputs": [
    {
     "data": {
      "text/html": [
       "<div>\n",
       "<style scoped>\n",
       "    .dataframe tbody tr th:only-of-type {\n",
       "        vertical-align: middle;\n",
       "    }\n",
       "\n",
       "    .dataframe tbody tr th {\n",
       "        vertical-align: top;\n",
       "    }\n",
       "\n",
       "    .dataframe thead th {\n",
       "        text-align: right;\n",
       "    }\n",
       "</style>\n",
       "<table border=\"1\" class=\"dataframe\">\n",
       "  <thead>\n",
       "    <tr style=\"text-align: right;\">\n",
       "      <th></th>\n",
       "      <th>popularity</th>\n",
       "      <th>original_title</th>\n",
       "      <th>genres</th>\n",
       "      <th>vote_count</th>\n",
       "      <th>vote_average</th>\n",
       "      <th>release_year</th>\n",
       "      <th>budget_adj</th>\n",
       "      <th>revenue_adj</th>\n",
       "      <th>gross</th>\n",
       "    </tr>\n",
       "  </thead>\n",
       "  <tbody>\n",
       "    <tr>\n",
       "      <th>0</th>\n",
       "      <td>32.985763</td>\n",
       "      <td>Jurassic World</td>\n",
       "      <td>Action|Adventure|Science Fiction|Thriller</td>\n",
       "      <td>5562</td>\n",
       "      <td>6.5</td>\n",
       "      <td>2015</td>\n",
       "      <td>1.379999e+08</td>\n",
       "      <td>1.392446e+09</td>\n",
       "      <td>1.254446e+09</td>\n",
       "    </tr>\n",
       "  </tbody>\n",
       "</table>\n",
       "</div>"
      ],
      "text/plain": [
       "   popularity  original_title                                     genres  \\\n",
       "0   32.985763  Jurassic World  Action|Adventure|Science Fiction|Thriller   \n",
       "\n",
       "   vote_count  vote_average  release_year    budget_adj   revenue_adj  \\\n",
       "0        5562           6.5          2015  1.379999e+08  1.392446e+09   \n",
       "\n",
       "          gross  \n",
       "0  1.254446e+09  "
      ]
     },
     "execution_count": 10,
     "metadata": {},
     "output_type": "execute_result"
    }
   ],
   "source": [
    "# Create variable gross which subtract budget_adj from revenue_adj -> might be profit (>0), loss(<0) or breakeven (=0)\n",
    "# Using the data from budget_adj and revenue_adj instead of the data from budget and revenue, which accounting for inflation over time, in order to ensure comparability\n",
    "df_genres['gross'] = df_genres['revenue_adj'] - df_genres['budget_adj']\n",
    "\n",
    "# confirm changes\n",
    "df_genres.head(1)"
   ]
  },
  {
   "cell_type": "markdown",
   "metadata": {},
   "source": [
    "### Split Genres Column"
   ]
  },
  {
   "cell_type": "code",
   "execution_count": 11,
   "metadata": {},
   "outputs": [
    {
     "data": {
      "text/html": [
       "<div>\n",
       "<style scoped>\n",
       "    .dataframe tbody tr th:only-of-type {\n",
       "        vertical-align: middle;\n",
       "    }\n",
       "\n",
       "    .dataframe tbody tr th {\n",
       "        vertical-align: top;\n",
       "    }\n",
       "\n",
       "    .dataframe thead th {\n",
       "        text-align: right;\n",
       "    }\n",
       "</style>\n",
       "<table border=\"1\" class=\"dataframe\">\n",
       "  <thead>\n",
       "    <tr style=\"text-align: right;\">\n",
       "      <th></th>\n",
       "      <th>popularity</th>\n",
       "      <th>original_title</th>\n",
       "      <th>vote_count</th>\n",
       "      <th>vote_average</th>\n",
       "      <th>release_year</th>\n",
       "      <th>budget_adj</th>\n",
       "      <th>revenue_adj</th>\n",
       "      <th>gross</th>\n",
       "      <th>genres</th>\n",
       "    </tr>\n",
       "  </thead>\n",
       "  <tbody>\n",
       "    <tr>\n",
       "      <th>0</th>\n",
       "      <td>32.985763</td>\n",
       "      <td>Jurassic World</td>\n",
       "      <td>5562</td>\n",
       "      <td>6.5</td>\n",
       "      <td>2015</td>\n",
       "      <td>1.379999e+08</td>\n",
       "      <td>1.392446e+09</td>\n",
       "      <td>1.254446e+09</td>\n",
       "      <td>Action</td>\n",
       "    </tr>\n",
       "    <tr>\n",
       "      <th>0</th>\n",
       "      <td>32.985763</td>\n",
       "      <td>Jurassic World</td>\n",
       "      <td>5562</td>\n",
       "      <td>6.5</td>\n",
       "      <td>2015</td>\n",
       "      <td>1.379999e+08</td>\n",
       "      <td>1.392446e+09</td>\n",
       "      <td>1.254446e+09</td>\n",
       "      <td>Adventure</td>\n",
       "    </tr>\n",
       "    <tr>\n",
       "      <th>0</th>\n",
       "      <td>32.985763</td>\n",
       "      <td>Jurassic World</td>\n",
       "      <td>5562</td>\n",
       "      <td>6.5</td>\n",
       "      <td>2015</td>\n",
       "      <td>1.379999e+08</td>\n",
       "      <td>1.392446e+09</td>\n",
       "      <td>1.254446e+09</td>\n",
       "      <td>Science Fiction</td>\n",
       "    </tr>\n",
       "    <tr>\n",
       "      <th>0</th>\n",
       "      <td>32.985763</td>\n",
       "      <td>Jurassic World</td>\n",
       "      <td>5562</td>\n",
       "      <td>6.5</td>\n",
       "      <td>2015</td>\n",
       "      <td>1.379999e+08</td>\n",
       "      <td>1.392446e+09</td>\n",
       "      <td>1.254446e+09</td>\n",
       "      <td>Thriller</td>\n",
       "    </tr>\n",
       "    <tr>\n",
       "      <th>1</th>\n",
       "      <td>28.419936</td>\n",
       "      <td>Mad Max: Fury Road</td>\n",
       "      <td>6185</td>\n",
       "      <td>7.1</td>\n",
       "      <td>2015</td>\n",
       "      <td>1.379999e+08</td>\n",
       "      <td>3.481613e+08</td>\n",
       "      <td>2.101614e+08</td>\n",
       "      <td>Action</td>\n",
       "    </tr>\n",
       "    <tr>\n",
       "      <th>1</th>\n",
       "      <td>28.419936</td>\n",
       "      <td>Mad Max: Fury Road</td>\n",
       "      <td>6185</td>\n",
       "      <td>7.1</td>\n",
       "      <td>2015</td>\n",
       "      <td>1.379999e+08</td>\n",
       "      <td>3.481613e+08</td>\n",
       "      <td>2.101614e+08</td>\n",
       "      <td>Adventure</td>\n",
       "    </tr>\n",
       "    <tr>\n",
       "      <th>1</th>\n",
       "      <td>28.419936</td>\n",
       "      <td>Mad Max: Fury Road</td>\n",
       "      <td>6185</td>\n",
       "      <td>7.1</td>\n",
       "      <td>2015</td>\n",
       "      <td>1.379999e+08</td>\n",
       "      <td>3.481613e+08</td>\n",
       "      <td>2.101614e+08</td>\n",
       "      <td>Science Fiction</td>\n",
       "    </tr>\n",
       "    <tr>\n",
       "      <th>1</th>\n",
       "      <td>28.419936</td>\n",
       "      <td>Mad Max: Fury Road</td>\n",
       "      <td>6185</td>\n",
       "      <td>7.1</td>\n",
       "      <td>2015</td>\n",
       "      <td>1.379999e+08</td>\n",
       "      <td>3.481613e+08</td>\n",
       "      <td>2.101614e+08</td>\n",
       "      <td>Thriller</td>\n",
       "    </tr>\n",
       "    <tr>\n",
       "      <th>2</th>\n",
       "      <td>13.112507</td>\n",
       "      <td>Insurgent</td>\n",
       "      <td>2480</td>\n",
       "      <td>6.3</td>\n",
       "      <td>2015</td>\n",
       "      <td>1.012000e+08</td>\n",
       "      <td>2.716190e+08</td>\n",
       "      <td>1.704191e+08</td>\n",
       "      <td>Adventure</td>\n",
       "    </tr>\n",
       "    <tr>\n",
       "      <th>2</th>\n",
       "      <td>13.112507</td>\n",
       "      <td>Insurgent</td>\n",
       "      <td>2480</td>\n",
       "      <td>6.3</td>\n",
       "      <td>2015</td>\n",
       "      <td>1.012000e+08</td>\n",
       "      <td>2.716190e+08</td>\n",
       "      <td>1.704191e+08</td>\n",
       "      <td>Science Fiction</td>\n",
       "    </tr>\n",
       "  </tbody>\n",
       "</table>\n",
       "</div>"
      ],
      "text/plain": [
       "   popularity      original_title  vote_count  vote_average  release_year  \\\n",
       "0   32.985763      Jurassic World        5562           6.5          2015   \n",
       "0   32.985763      Jurassic World        5562           6.5          2015   \n",
       "0   32.985763      Jurassic World        5562           6.5          2015   \n",
       "0   32.985763      Jurassic World        5562           6.5          2015   \n",
       "1   28.419936  Mad Max: Fury Road        6185           7.1          2015   \n",
       "1   28.419936  Mad Max: Fury Road        6185           7.1          2015   \n",
       "1   28.419936  Mad Max: Fury Road        6185           7.1          2015   \n",
       "1   28.419936  Mad Max: Fury Road        6185           7.1          2015   \n",
       "2   13.112507           Insurgent        2480           6.3          2015   \n",
       "2   13.112507           Insurgent        2480           6.3          2015   \n",
       "\n",
       "     budget_adj   revenue_adj         gross           genres  \n",
       "0  1.379999e+08  1.392446e+09  1.254446e+09           Action  \n",
       "0  1.379999e+08  1.392446e+09  1.254446e+09        Adventure  \n",
       "0  1.379999e+08  1.392446e+09  1.254446e+09  Science Fiction  \n",
       "0  1.379999e+08  1.392446e+09  1.254446e+09         Thriller  \n",
       "1  1.379999e+08  3.481613e+08  2.101614e+08           Action  \n",
       "1  1.379999e+08  3.481613e+08  2.101614e+08        Adventure  \n",
       "1  1.379999e+08  3.481613e+08  2.101614e+08  Science Fiction  \n",
       "1  1.379999e+08  3.481613e+08  2.101614e+08         Thriller  \n",
       "2  1.012000e+08  2.716190e+08  1.704191e+08        Adventure  \n",
       "2  1.012000e+08  2.716190e+08  1.704191e+08  Science Fiction  "
      ]
     },
     "execution_count": 11,
     "metadata": {},
     "output_type": "execute_result"
    }
   ],
   "source": [
    "# Split by \"|\" and create new entries for the corresponding movie\n",
    "df_gs = df_genres.drop('genres', axis=1).join(df_genres['genres'].str.split('|', expand=True).stack().reset_index(level=1, drop=True).rename('genres'))\n",
    "\n",
    "\n",
    "# check and view changes\n",
    "df_gs.head(10)"
   ]
  },
  {
   "cell_type": "code",
   "execution_count": 12,
   "metadata": {},
   "outputs": [
    {
     "data": {
      "text/plain": [
       "(26955, 9)"
      ]
     },
     "execution_count": 12,
     "metadata": {},
     "output_type": "execute_result"
    }
   ],
   "source": [
    "# dimension after spliting\n",
    "df_gs.shape"
   ]
  },
  {
   "cell_type": "markdown",
   "metadata": {},
   "source": [
    "<a id='eda'></a>\n",
    "## Exploratory Data Analysis\n"
   ]
  },
  {
   "cell_type": "markdown",
   "metadata": {},
   "source": [
    "### Research Question 1: Which genres of movies have been produced more?"
   ]
  },
  {
   "cell_type": "code",
   "execution_count": 13,
   "metadata": {},
   "outputs": [
    {
     "data": {
      "text/plain": [
       "20"
      ]
     },
     "execution_count": 13,
     "metadata": {},
     "output_type": "execute_result"
    }
   ],
   "source": [
    "# total number of genres in the dataset\n",
    "len (df_gs['genres'].unique())\n"
   ]
  },
  {
   "cell_type": "code",
   "execution_count": 14,
   "metadata": {},
   "outputs": [
    {
     "data": {
      "text/plain": [
       "True"
      ]
     },
     "execution_count": 14,
     "metadata": {},
     "output_type": "execute_result"
    }
   ],
   "source": [
    "# check and confirm if the number of original_title (movie names) are the same on both dataset since we will use as an unique identifier -> should be True\n",
    "df.original_title.nunique() == df_gs.original_title.nunique()\n"
   ]
  },
  {
   "cell_type": "code",
   "execution_count": 15,
   "metadata": {},
   "outputs": [
    {
     "data": {
      "text/plain": [
       "genres\n",
       "Drama              4672\n",
       "Comedy             3750\n",
       "Thriller           2841\n",
       "Action             2339\n",
       "Romance            1686\n",
       "Horror             1580\n",
       "Adventure          1442\n",
       "Crime              1337\n",
       "Family             1211\n",
       "Science Fiction    1207\n",
       "Fantasy             899\n",
       "Mystery             796\n",
       "Animation           697\n",
       "Documentary         520\n",
       "Music               403\n",
       "History             331\n",
       "War                 269\n",
       "Foreign             188\n",
       "TV Movie            167\n",
       "Western             163\n",
       "Name: original_title, dtype: int64"
      ]
     },
     "execution_count": 15,
     "metadata": {},
     "output_type": "execute_result"
    }
   ],
   "source": [
    "# find and sort the total number of each movie genre with groupby \n",
    "df_genres_sum = df_gs.groupby('genres').original_title.nunique().sort_values(ascending=False)\n",
    "df_genres_sum"
   ]
  },
  {
   "cell_type": "code",
   "execution_count": 16,
   "metadata": {},
   "outputs": [
    {
     "data": {
      "image/png": "[encoded data removed]",
      "text/plain": [
       "<matplotlib.figure.Figure at 0x7f45944885f8>"
      ]
     },
     "metadata": {
      "needs_background": "light"
     },
     "output_type": "display_data"
    }
   ],
   "source": [
    "df_genres_sum.plot(kind = 'bar', title = 'Number of Movies Per Genre', figsize=(8, 8));"
   ]
  },
  {
   "cell_type": "markdown",
   "metadata": {},
   "source": [
    "#### The top 3 genres of movie are Drama, Comedy and Thriller."
   ]
  },
  {
   "cell_type": "code",
   "execution_count": 17,
   "metadata": {},
   "outputs": [
    {
     "data": {
      "text/html": [
       "<div>\n",
       "<style scoped>\n",
       "    .dataframe tbody tr th:only-of-type {\n",
       "        vertical-align: middle;\n",
       "    }\n",
       "\n",
       "    .dataframe tbody tr th {\n",
       "        vertical-align: top;\n",
       "    }\n",
       "\n",
       "    .dataframe thead th {\n",
       "        text-align: right;\n",
       "    }\n",
       "</style>\n",
       "<table border=\"1\" class=\"dataframe\">\n",
       "  <thead>\n",
       "    <tr style=\"text-align: right;\">\n",
       "      <th></th>\n",
       "      <th></th>\n",
       "      <th>original_title</th>\n",
       "    </tr>\n",
       "    <tr>\n",
       "      <th>release_year</th>\n",
       "      <th>genres</th>\n",
       "      <th></th>\n",
       "    </tr>\n",
       "  </thead>\n",
       "  <tbody>\n",
       "    <tr>\n",
       "      <th rowspan=\"5\" valign=\"top\">1960</th>\n",
       "      <th>Action</th>\n",
       "      <td>8</td>\n",
       "    </tr>\n",
       "    <tr>\n",
       "      <th>Adventure</th>\n",
       "      <td>5</td>\n",
       "    </tr>\n",
       "    <tr>\n",
       "      <th>Comedy</th>\n",
       "      <td>8</td>\n",
       "    </tr>\n",
       "    <tr>\n",
       "      <th>Crime</th>\n",
       "      <td>2</td>\n",
       "    </tr>\n",
       "    <tr>\n",
       "      <th>Drama</th>\n",
       "      <td>13</td>\n",
       "    </tr>\n",
       "  </tbody>\n",
       "</table>\n",
       "</div>"
      ],
      "text/plain": [
       "                        original_title\n",
       "release_year genres                   \n",
       "1960         Action                  8\n",
       "             Adventure               5\n",
       "             Comedy                  8\n",
       "             Crime                   2\n",
       "             Drama                  13"
      ]
     },
     "execution_count": 17,
     "metadata": {},
     "output_type": "execute_result"
    }
   ],
   "source": [
    "# calculate the number of movie genres for each year by using movie title as an unique identifier\n",
    "df_genres_year = pd.DataFrame(df_gs.groupby(['release_year','genres'])['original_title'].nunique())\n",
    "df_genres_year.head()"
   ]
  },
  {
   "cell_type": "code",
   "execution_count": 18,
   "metadata": {},
   "outputs": [
    {
     "data": {
      "text/plain": [
       "release_year  genres   \n",
       "1960          Drama         13\n",
       "              Action         8\n",
       "              Comedy         8\n",
       "1961          Drama         16\n",
       "              Comedy        10\n",
       "              Action         7\n",
       "1962          Drama         21\n",
       "              Action         8\n",
       "              Adventure      7\n",
       "1963          Comedy        13\n",
       "              Drama         13\n",
       "              Thriller      10\n",
       "1964          Drama         20\n",
       "              Comedy        16\n",
       "              Crime         10\n",
       "1965          Drama         20\n",
       "              Thriller      11\n",
       "              Action         9\n",
       "1966          Comedy        16\n",
       "              Drama         16\n",
       "              Action        14\n",
       "1967          Comedy        17\n",
       "              Drama         16\n",
       "              Romance       11\n",
       "1968          Drama         20\n",
       "              Comedy         9\n",
       "              Action         6\n",
       "1969          Drama         13\n",
       "              Comedy        12\n",
       "              Action        10\n",
       "                          ... \n",
       "2006          Drama        197\n",
       "              Comedy       155\n",
       "              Thriller     114\n",
       "2007          Drama        197\n",
       "              Comedy       151\n",
       "              Thriller     125\n",
       "2008          Drama        233\n",
       "              Comedy       169\n",
       "              Thriller     127\n",
       "2009          Drama        224\n",
       "              Comedy       198\n",
       "              Thriller     157\n",
       "2010          Drama        210\n",
       "              Comedy       169\n",
       "              Thriller     134\n",
       "2011          Drama        214\n",
       "              Comedy       172\n",
       "              Thriller     146\n",
       "2012          Drama        232\n",
       "              Comedy       176\n",
       "              Thriller     160\n",
       "2013          Drama        253\n",
       "              Comedy       175\n",
       "              Thriller     175\n",
       "2014          Drama        284\n",
       "              Comedy       185\n",
       "              Thriller     179\n",
       "2015          Drama        260\n",
       "              Thriller     171\n",
       "              Comedy       162\n",
       "Name: original_title, Length: 168, dtype: int64"
      ]
     },
     "execution_count": 18,
     "metadata": {},
     "output_type": "execute_result"
    }
   ],
   "source": [
    "# group by the first level of the index and then get the first three elements from each group\n",
    "group = df_genres_year['original_title'].groupby(level=0, group_keys=False)\n",
    "group.nlargest(3)"
   ]
  },
  {
   "cell_type": "markdown",
   "metadata": {},
   "source": [
    "#### We can see that Comedy and Drama were produced the most year by year. The number of Thriller movies were increased remarkably in the current decade. This trend also reflects to the overall number of each movie genre."
   ]
  },
  {
   "cell_type": "markdown",
   "metadata": {},
   "source": [
    "### Research Question 2: Which genres are most popular  from year to year?"
   ]
  },
  {
   "cell_type": "code",
   "execution_count": 19,
   "metadata": {},
   "outputs": [
    {
     "data": {
      "text/html": [
       "<div>\n",
       "<style scoped>\n",
       "    .dataframe tbody tr th:only-of-type {\n",
       "        vertical-align: middle;\n",
       "    }\n",
       "\n",
       "    .dataframe tbody tr th {\n",
       "        vertical-align: top;\n",
       "    }\n",
       "\n",
       "    .dataframe thead th {\n",
       "        text-align: right;\n",
       "    }\n",
       "</style>\n",
       "<table border=\"1\" class=\"dataframe\">\n",
       "  <thead>\n",
       "    <tr style=\"text-align: right;\">\n",
       "      <th></th>\n",
       "      <th></th>\n",
       "      <th>popularity</th>\n",
       "    </tr>\n",
       "    <tr>\n",
       "      <th>release_year</th>\n",
       "      <th>genres</th>\n",
       "      <th></th>\n",
       "    </tr>\n",
       "  </thead>\n",
       "  <tbody>\n",
       "    <tr>\n",
       "      <th rowspan=\"5\" valign=\"top\">1960</th>\n",
       "      <th>Action</th>\n",
       "      <td>0.590724</td>\n",
       "    </tr>\n",
       "    <tr>\n",
       "      <th>Adventure</th>\n",
       "      <td>0.700981</td>\n",
       "    </tr>\n",
       "    <tr>\n",
       "      <th>Comedy</th>\n",
       "      <td>0.396000</td>\n",
       "    </tr>\n",
       "    <tr>\n",
       "      <th>Crime</th>\n",
       "      <td>0.346480</td>\n",
       "    </tr>\n",
       "    <tr>\n",
       "      <th>Drama</th>\n",
       "      <td>0.566305</td>\n",
       "    </tr>\n",
       "  </tbody>\n",
       "</table>\n",
       "</div>"
      ],
      "text/plain": [
       "                        popularity\n",
       "release_year genres               \n",
       "1960         Action       0.590724\n",
       "             Adventure    0.700981\n",
       "             Comedy       0.396000\n",
       "             Crime        0.346480\n",
       "             Drama        0.566305"
      ]
     },
     "execution_count": 19,
     "metadata": {},
     "output_type": "execute_result"
    }
   ],
   "source": [
    "# calculate the average popularity per genre per year\n",
    "df_gyp = pd.DataFrame(df_gs.groupby(['release_year','genres'])['popularity'].mean())\n",
    "df_gyp.head()"
   ]
  },
  {
   "cell_type": "code",
   "execution_count": 20,
   "metadata": {},
   "outputs": [
    {
     "data": {
      "text/plain": [
       "release_year  genres         \n",
       "1960          Thriller           0.811910\n",
       "1961          Animation          2.631987\n",
       "1962          Adventure          0.942513\n",
       "1963          Animation          2.180410\n",
       "1964          War                0.930959\n",
       "1965          Music              0.968850\n",
       "1966          Animation          0.585717\n",
       "1967          Animation          1.348805\n",
       "1968          Mystery            1.519456\n",
       "1969          Crime              0.948020\n",
       "1970          Animation          1.127718\n",
       "1971          Family             1.530722\n",
       "1972          Crime              1.072768\n",
       "1973          Animation          0.956526\n",
       "1974          Mystery            0.702035\n",
       "1975          Adventure          0.880297\n",
       "1976          Crime              0.707249\n",
       "1977          Action             1.419319\n",
       "1978          Music              0.679805\n",
       "1979          Action             1.410014\n",
       "1980          Science Fiction    0.897143\n",
       "1981          Adventure          0.875815\n",
       "1982          War                1.143183\n",
       "1983          Adventure          0.900596\n",
       "1984          Family             0.823924\n",
       "1985          Family             0.924311\n",
       "1986          Adventure          0.798935\n",
       "1987          History            0.815643\n",
       "1988          Action             0.599017\n",
       "1989          Animation          1.177585\n",
       "1990          Adventure          0.801768\n",
       "1991          Animation          1.665002\n",
       "1992          Animation          1.286893\n",
       "1993          Fantasy            0.918601\n",
       "1994          Crime              1.297888\n",
       "1995          Animation          1.467780\n",
       "1996          Crime              0.976838\n",
       "1997          Science Fiction    1.140241\n",
       "1998          War                1.246619\n",
       "1999          Adventure          1.012306\n",
       "2000          Adventure          0.854593\n",
       "2001          Fantasy            1.565260\n",
       "2002          Fantasy            1.430465\n",
       "2003          Fantasy            1.747524\n",
       "2004          Fantasy            1.320568\n",
       "2005          Fantasy            1.117732\n",
       "2006          Fantasy            1.023134\n",
       "2007          Fantasy            0.957349\n",
       "2008          Adventure          1.008385\n",
       "2009          Adventure          1.138422\n",
       "2010          Adventure          1.360319\n",
       "2011          Western            1.175800\n",
       "2012          Western            1.732778\n",
       "2013          Adventure          1.260832\n",
       "2014          Adventure          2.430526\n",
       "2015          Adventure          3.283786\n",
       "Name: popularity, dtype: float64"
      ]
     },
     "execution_count": 20,
     "metadata": {},
     "output_type": "execute_result"
    }
   ],
   "source": [
    "# group by the first level of the index and then get the first largest element from each group\n",
    "group_p = df_gyp['popularity'].groupby(level=0, group_keys=False)\n",
    "group_p.nlargest(1)"
   ]
  },
  {
   "cell_type": "markdown",
   "metadata": {},
   "source": [
    "#### Before 2000, Animation Movies had higher popularity than others. However, Adventure, Westeern and Fantasy became the most popular movie genres in the current decade."
   ]
  },
  {
   "cell_type": "code",
   "execution_count": 21,
   "metadata": {},
   "outputs": [
    {
     "data": {
      "text/html": [
       "<div>\n",
       "<style scoped>\n",
       "    .dataframe tbody tr th:only-of-type {\n",
       "        vertical-align: middle;\n",
       "    }\n",
       "\n",
       "    .dataframe tbody tr th {\n",
       "        vertical-align: top;\n",
       "    }\n",
       "\n",
       "    .dataframe thead th {\n",
       "        text-align: right;\n",
       "    }\n",
       "</style>\n",
       "<table border=\"1\" class=\"dataframe\">\n",
       "  <thead>\n",
       "    <tr style=\"text-align: right;\">\n",
       "      <th></th>\n",
       "      <th></th>\n",
       "      <th>gross</th>\n",
       "    </tr>\n",
       "    <tr>\n",
       "      <th>release_year</th>\n",
       "      <th>genres</th>\n",
       "      <th></th>\n",
       "    </tr>\n",
       "  </thead>\n",
       "  <tbody>\n",
       "    <tr>\n",
       "      <th rowspan=\"5\" valign=\"top\">1960</th>\n",
       "      <th>Action</th>\n",
       "      <td>46.915114</td>\n",
       "    </tr>\n",
       "    <tr>\n",
       "      <th>Adventure</th>\n",
       "      <td>3.177749</td>\n",
       "    </tr>\n",
       "    <tr>\n",
       "      <th>Comedy</th>\n",
       "      <td>38.772593</td>\n",
       "    </tr>\n",
       "    <tr>\n",
       "      <th>Crime</th>\n",
       "      <td>0.000000</td>\n",
       "    </tr>\n",
       "    <tr>\n",
       "      <th>Drama</th>\n",
       "      <td>60.794683</td>\n",
       "    </tr>\n",
       "  </tbody>\n",
       "</table>\n",
       "</div>"
      ],
      "text/plain": [
       "                            gross\n",
       "release_year genres              \n",
       "1960         Action     46.915114\n",
       "             Adventure   3.177749\n",
       "             Comedy     38.772593\n",
       "             Crime       0.000000\n",
       "             Drama      60.794683"
      ]
     },
     "execution_count": 21,
     "metadata": {},
     "output_type": "execute_result"
    }
   ],
   "source": [
    "# try to figure out why those genres are more popular than others, we can assume it is profit related. \n",
    "# So calculate the average gross (in million for better visualization) per genre per year\n",
    "df_gyg = pd.DataFrame(df_gs.groupby(['release_year','genres'])['gross'].mean()/1000000)\n",
    "df_gyg.head()"
   ]
  },
  {
   "cell_type": "code",
   "execution_count": 22,
   "metadata": {},
   "outputs": [
    {
     "data": {
      "text/plain": [
       "release_year  genres         \n",
       "1960          History              70.780488\n",
       "1961          Animation          1545.635295\n",
       "1962          Adventure           152.922094\n",
       "1963          Action              106.800492\n",
       "1964          Family              265.871931\n",
       "1965          Music               531.202697\n",
       "1966          War                  13.436029\n",
       "1967          Animation           659.701348\n",
       "1968          Mystery             160.651946\n",
       "1969          Crime               187.143050\n",
       "1970          War                 185.523576\n",
       "1971          Action              131.507236\n",
       "1972          Crime               225.750376\n",
       "1973          Thriller            219.383642\n",
       "1974          Western             255.165780\n",
       "1975          Horror              291.309390\n",
       "1976          Music               197.971065\n",
       "1977          Science Fiction     356.980548\n",
       "1978          Music               192.968289\n",
       "1979          Adventure           168.003987\n",
       "1980          Science Fiction     143.269746\n",
       "1981          Adventure           117.014160\n",
       "1982          Adventure           247.422319\n",
       "1983          Adventure           144.019764\n",
       "1984          Action               76.842305\n",
       "1985          War                 268.341929\n",
       "1986          War                  79.702873\n",
       "1987          Music               126.167496\n",
       "1988          Animation            87.443846\n",
       "1989          Family              127.566464\n",
       "1990          Western             223.748586\n",
       "1991          History             264.829559\n",
       "1992          Animation           203.138827\n",
       "1993          Mystery             116.779265\n",
       "1994          Animation           122.309869\n",
       "1995          Mystery             159.143495\n",
       "1996          War                 120.410028\n",
       "1997          Romance              90.312217\n",
       "1998          Western             207.728754\n",
       "1999          Adventure            97.253521\n",
       "2000          Adventure            75.240974\n",
       "2001          Fantasy             149.402455\n",
       "2002          Fantasy             155.468652\n",
       "2003          Fantasy             104.421053\n",
       "2004          Fantasy             156.081002\n",
       "2005          Adventure            79.004394\n",
       "2006          Adventure            70.195136\n",
       "2007          Fantasy              98.290611\n",
       "2008          Adventure            55.720003\n",
       "2009          Adventure           115.224154\n",
       "2010          Family               98.999767\n",
       "2011          Adventure           109.874700\n",
       "2012          Adventure           154.380529\n",
       "2013          Adventure            94.200631\n",
       "2014          Adventure           110.874776\n",
       "2015          Adventure           133.204781\n",
       "Name: gross, dtype: float64"
      ]
     },
     "execution_count": 22,
     "metadata": {},
     "output_type": "execute_result"
    }
   ],
   "source": [
    "# group by the first level of the index and then get the first largest element from each group\n",
    "group_g = df_gyg['gross'].groupby(level=0, group_keys=False)\n",
    "group_g.nlargest(1)"
   ]
  },
  {
   "cell_type": "markdown",
   "metadata": {},
   "source": [
    "#### We can see Animation movies in 1961 have extremely high profit. Also, it is true that Adventure, Fantasy and Western movies have handsome profit in the current decade."
   ]
  },
  {
   "cell_type": "markdown",
   "metadata": {},
   "source": [
    "### Research Question 3: Which genres have higher popularity?"
   ]
  },
  {
   "cell_type": "code",
   "execution_count": 23,
   "metadata": {},
   "outputs": [
    {
     "data": {
      "text/html": [
       "<div>\n",
       "<style scoped>\n",
       "    .dataframe tbody tr th:only-of-type {\n",
       "        vertical-align: middle;\n",
       "    }\n",
       "\n",
       "    .dataframe tbody tr th {\n",
       "        vertical-align: top;\n",
       "    }\n",
       "\n",
       "    .dataframe thead th {\n",
       "        text-align: right;\n",
       "    }\n",
       "</style>\n",
       "<table border=\"1\" class=\"dataframe\">\n",
       "  <thead>\n",
       "    <tr style=\"text-align: right;\">\n",
       "      <th></th>\n",
       "      <th>popularity</th>\n",
       "      <th>vote_count</th>\n",
       "      <th>vote_average</th>\n",
       "      <th>release_year</th>\n",
       "      <th>budget_adj</th>\n",
       "      <th>revenue_adj</th>\n",
       "      <th>gross</th>\n",
       "    </tr>\n",
       "    <tr>\n",
       "      <th>genres</th>\n",
       "      <th></th>\n",
       "      <th></th>\n",
       "      <th></th>\n",
       "      <th></th>\n",
       "      <th></th>\n",
       "      <th></th>\n",
       "      <th></th>\n",
       "    </tr>\n",
       "  </thead>\n",
       "  <tbody>\n",
       "    <tr>\n",
       "      <th>Action</th>\n",
       "      <td>0.926274</td>\n",
       "      <td>392.993708</td>\n",
       "      <td>5.787752</td>\n",
       "      <td>2000.056208</td>\n",
       "      <td>3.296011e+07</td>\n",
       "      <td>9.175827e+07</td>\n",
       "      <td>5.879816e+07</td>\n",
       "    </tr>\n",
       "    <tr>\n",
       "      <th>Adventure</th>\n",
       "      <td>1.154259</td>\n",
       "      <td>513.125085</td>\n",
       "      <td>5.940585</td>\n",
       "      <td>1999.388851</td>\n",
       "      <td>4.393734e+07</td>\n",
       "      <td>1.416752e+08</td>\n",
       "      <td>9.773789e+07</td>\n",
       "    </tr>\n",
       "    <tr>\n",
       "      <th>Animation</th>\n",
       "      <td>0.852182</td>\n",
       "      <td>303.000000</td>\n",
       "      <td>6.403147</td>\n",
       "      <td>2003.995708</td>\n",
       "      <td>2.529535e+07</td>\n",
       "      <td>8.525613e+07</td>\n",
       "      <td>5.996078e+07</td>\n",
       "    </tr>\n",
       "    <tr>\n",
       "      <th>Comedy</th>\n",
       "      <td>0.592607</td>\n",
       "      <td>176.436330</td>\n",
       "      <td>5.905167</td>\n",
       "      <td>2000.816240</td>\n",
       "      <td>1.592031e+07</td>\n",
       "      <td>4.789700e+07</td>\n",
       "      <td>3.197669e+07</td>\n",
       "    </tr>\n",
       "    <tr>\n",
       "      <th>Crime</th>\n",
       "      <td>0.744930</td>\n",
       "      <td>278.805022</td>\n",
       "      <td>6.124889</td>\n",
       "      <td>1999.491137</td>\n",
       "      <td>2.153351e+07</td>\n",
       "      <td>5.663641e+07</td>\n",
       "      <td>3.510290e+07</td>\n",
       "    </tr>\n",
       "  </tbody>\n",
       "</table>\n",
       "</div>"
      ],
      "text/plain": [
       "           popularity  vote_count  vote_average  release_year    budget_adj  \\\n",
       "genres                                                                        \n",
       "Action       0.926274  392.993708      5.787752   2000.056208  3.296011e+07   \n",
       "Adventure    1.154259  513.125085      5.940585   1999.388851  4.393734e+07   \n",
       "Animation    0.852182  303.000000      6.403147   2003.995708  2.529535e+07   \n",
       "Comedy       0.592607  176.436330      5.905167   2000.816240  1.592031e+07   \n",
       "Crime        0.744930  278.805022      6.124889   1999.491137  2.153351e+07   \n",
       "\n",
       "            revenue_adj         gross  \n",
       "genres                                 \n",
       "Action     9.175827e+07  5.879816e+07  \n",
       "Adventure  1.416752e+08  9.773789e+07  \n",
       "Animation  8.525613e+07  5.996078e+07  \n",
       "Comedy     4.789700e+07  3.197669e+07  \n",
       "Crime      5.663641e+07  3.510290e+07  "
      ]
     },
     "execution_count": 23,
     "metadata": {},
     "output_type": "execute_result"
    }
   ],
   "source": [
    "# for better comparison and visualization, we can calculate the mean for each variable \n",
    "df_genre_mean = df_gs.groupby(['genres']).mean()\n",
    "df_genre_mean.head()"
   ]
  },
  {
   "cell_type": "code",
   "execution_count": 24,
   "metadata": {},
   "outputs": [
    {
     "data": {
      "image/png": "[encoded data removed]",
      "text/plain": [
       "<matplotlib.figure.Figure at 0x7f456875a4e0>"
      ]
     },
     "metadata": {
      "needs_background": "light"
     },
     "output_type": "display_data"
    }
   ],
   "source": [
    "# sort and plot data for the average of popularity of each genre\n",
    "df_genre_mean.popularity.sort_values(ascending=False).plot(kind = 'bar', title = 'Average Popularity of Movies Per Genre', figsize=(8, 8));\n"
   ]
  },
  {
   "cell_type": "markdown",
   "metadata": {},
   "source": [
    "#### The top 3 of most popular movie genres are Adventure, Sciencee Fiction and Fantasy."
   ]
  },
  {
   "cell_type": "markdown",
   "metadata": {},
   "source": [
    "### Research Question 4: Which genres have higher budget and revenue?"
   ]
  },
  {
   "cell_type": "code",
   "execution_count": 25,
   "metadata": {},
   "outputs": [
    {
     "data": {
      "text/html": [
       "<div>\n",
       "<style scoped>\n",
       "    .dataframe tbody tr th:only-of-type {\n",
       "        vertical-align: middle;\n",
       "    }\n",
       "\n",
       "    .dataframe tbody tr th {\n",
       "        vertical-align: top;\n",
       "    }\n",
       "\n",
       "    .dataframe thead th {\n",
       "        text-align: right;\n",
       "    }\n",
       "</style>\n",
       "<table border=\"1\" class=\"dataframe\">\n",
       "  <thead>\n",
       "    <tr style=\"text-align: right;\">\n",
       "      <th></th>\n",
       "      <th>popularity</th>\n",
       "      <th>vote_count</th>\n",
       "      <th>vote_average</th>\n",
       "      <th>release_year</th>\n",
       "      <th>budget_adj_million</th>\n",
       "      <th>revenue_adj_million</th>\n",
       "      <th>gross_million</th>\n",
       "    </tr>\n",
       "    <tr>\n",
       "      <th>genres</th>\n",
       "      <th></th>\n",
       "      <th></th>\n",
       "      <th></th>\n",
       "      <th></th>\n",
       "      <th></th>\n",
       "      <th></th>\n",
       "      <th></th>\n",
       "    </tr>\n",
       "  </thead>\n",
       "  <tbody>\n",
       "    <tr>\n",
       "      <th>Action</th>\n",
       "      <td>0.926274</td>\n",
       "      <td>392.993708</td>\n",
       "      <td>5.787752</td>\n",
       "      <td>2000.056208</td>\n",
       "      <td>32.960109</td>\n",
       "      <td>91.758272</td>\n",
       "      <td>58.798162</td>\n",
       "    </tr>\n",
       "    <tr>\n",
       "      <th>Adventure</th>\n",
       "      <td>1.154259</td>\n",
       "      <td>513.125085</td>\n",
       "      <td>5.940585</td>\n",
       "      <td>1999.388851</td>\n",
       "      <td>43.937335</td>\n",
       "      <td>141.675228</td>\n",
       "      <td>97.737893</td>\n",
       "    </tr>\n",
       "    <tr>\n",
       "      <th>Animation</th>\n",
       "      <td>0.852182</td>\n",
       "      <td>303.000000</td>\n",
       "      <td>6.403147</td>\n",
       "      <td>2003.995708</td>\n",
       "      <td>25.295350</td>\n",
       "      <td>85.256127</td>\n",
       "      <td>59.960777</td>\n",
       "    </tr>\n",
       "    <tr>\n",
       "      <th>Comedy</th>\n",
       "      <td>0.592607</td>\n",
       "      <td>176.436330</td>\n",
       "      <td>5.905167</td>\n",
       "      <td>2000.816240</td>\n",
       "      <td>15.920314</td>\n",
       "      <td>47.897001</td>\n",
       "      <td>31.976688</td>\n",
       "    </tr>\n",
       "    <tr>\n",
       "      <th>Crime</th>\n",
       "      <td>0.744930</td>\n",
       "      <td>278.805022</td>\n",
       "      <td>6.124889</td>\n",
       "      <td>1999.491137</td>\n",
       "      <td>21.533513</td>\n",
       "      <td>56.636410</td>\n",
       "      <td>35.102897</td>\n",
       "    </tr>\n",
       "  </tbody>\n",
       "</table>\n",
       "</div>"
      ],
      "text/plain": [
       "           popularity  vote_count  vote_average  release_year  \\\n",
       "genres                                                          \n",
       "Action       0.926274  392.993708      5.787752   2000.056208   \n",
       "Adventure    1.154259  513.125085      5.940585   1999.388851   \n",
       "Animation    0.852182  303.000000      6.403147   2003.995708   \n",
       "Comedy       0.592607  176.436330      5.905167   2000.816240   \n",
       "Crime        0.744930  278.805022      6.124889   1999.491137   \n",
       "\n",
       "           budget_adj_million  revenue_adj_million  gross_million  \n",
       "genres                                                             \n",
       "Action              32.960109            91.758272      58.798162  \n",
       "Adventure           43.937335           141.675228      97.737893  \n",
       "Animation           25.295350            85.256127      59.960777  \n",
       "Comedy              15.920314            47.897001      31.976688  \n",
       "Crime               21.533513            56.636410      35.102897  "
      ]
     },
     "execution_count": 25,
     "metadata": {},
     "output_type": "execute_result"
    }
   ],
   "source": [
    "# for better comparison and visualization, we can use million format for \"budget_adj\", \"revenue_adj\" and \"gross\" variables\n",
    "\n",
    "df_genre_mean ['budget_adj_million'] = df_genre_mean['budget_adj']/1000000\n",
    "df_genre_mean.drop(['budget_adj'], axis=1, inplace = True)\n",
    "\n",
    "df_genre_mean ['revenue_adj_million'] = df_genre_mean['revenue_adj']/1000000\n",
    "df_genre_mean.drop(['revenue_adj'], axis=1, inplace = True)\n",
    "\n",
    "df_genre_mean ['gross_million'] = df_genre_mean['gross']/1000000\n",
    "df_genre_mean.drop(['gross'], axis=1, inplace = True)\n",
    "\n",
    "# view and check changes\n",
    "df_genre_mean.head()\n"
   ]
  },
  {
   "cell_type": "code",
   "execution_count": 26,
   "metadata": {},
   "outputs": [
    {
     "data": {
      "image/png": "[encoded data removed]",
      "text/plain": [
       "<matplotlib.figure.Figure at 0x7f456850b1d0>"
      ]
     },
     "metadata": {
      "needs_background": "light"
     },
     "output_type": "display_data"
    }
   ],
   "source": [
    "# sort and plot data for the average of budget of each genre\n",
    "df_genre_mean.budget_adj_million.sort_values(ascending=False).plot(kind = 'bar', title = 'Average Budget of Movies Per Genre in Million', figsize=(8, 8));\n"
   ]
  },
  {
   "cell_type": "code",
   "execution_count": 27,
   "metadata": {},
   "outputs": [
    {
     "data": {
      "image/png": "[encoded data removed]",
      "text/plain": [
       "<matplotlib.figure.Figure at 0x7f4568084fd0>"
      ]
     },
     "metadata": {
      "needs_background": "light"
     },
     "output_type": "display_data"
    }
   ],
   "source": [
    "# sort and plot data for the average of revenue of each genre\n",
    "df_genre_mean.revenue_adj_million.sort_values(ascending=False).plot(kind = 'bar', title = 'Average Revenue of Movies Per Genre in Million', figsize=(8, 8));\n"
   ]
  },
  {
   "cell_type": "markdown",
   "metadata": {},
   "source": [
    "#### Both top 3 movie genres that having higher average budget and revenue are Adventure, Fantasy and Action."
   ]
  },
  {
   "cell_type": "markdown",
   "metadata": {},
   "source": [
    "### Research Question 5: Which genres have higher profit?"
   ]
  },
  {
   "cell_type": "code",
   "execution_count": 28,
   "metadata": {},
   "outputs": [
    {
     "data": {
      "image/png": "[encoded data removed]",
      "text/plain": [
       "<matplotlib.figure.Figure at 0x7f45687336a0>"
      ]
     },
     "metadata": {
      "needs_background": "light"
     },
     "output_type": "display_data"
    }
   ],
   "source": [
    "# sort and plot data for the averaage gross of each genre\n",
    "df_genre_mean.gross_million.sort_values(ascending=False).plot(kind = 'bar', title = 'Average Gross of Movies Per Genre in Million', figsize=(8, 8));\n"
   ]
  },
  {
   "cell_type": "markdown",
   "metadata": {},
   "source": [
    "#### The top 3 movie genres that having higher average profit  are Adventure, Fantasy and Family."
   ]
  },
  {
   "cell_type": "markdown",
   "metadata": {},
   "source": [
    "### Research Question 6: Which genres have higher rating?"
   ]
  },
  {
   "cell_type": "code",
   "execution_count": 29,
   "metadata": {},
   "outputs": [
    {
     "data": {
      "image/png": "[encoded data removed]",
      "text/plain": [
       "<matplotlib.figure.Figure at 0x7f456850bd30>"
      ]
     },
     "metadata": {
      "needs_background": "light"
     },
     "output_type": "display_data"
    }
   ],
   "source": [
    "# sort and plot data for the average voting rate of each genre\n",
    "df_genre_mean.vote_average.sort_values(ascending=False).plot(kind = 'bar', title = 'Average Rating of Movies Per Genre', figsize=(8, 8));\n"
   ]
  },
  {
   "cell_type": "markdown",
   "metadata": {},
   "source": [
    "#### The top 3 movie genres that having higher average voting rate are Documentary, Music and History."
   ]
  },
  {
   "cell_type": "markdown",
   "metadata": {},
   "source": [
    "### Research Question 7: In general, does higher popularity have higher rating?"
   ]
  },
  {
   "cell_type": "code",
   "execution_count": 30,
   "metadata": {},
   "outputs": [
    {
     "data": {
      "text/html": [
       "<div>\n",
       "<style scoped>\n",
       "    .dataframe tbody tr th:only-of-type {\n",
       "        vertical-align: middle;\n",
       "    }\n",
       "\n",
       "    .dataframe tbody tr th {\n",
       "        vertical-align: top;\n",
       "    }\n",
       "\n",
       "    .dataframe thead th {\n",
       "        text-align: right;\n",
       "    }\n",
       "</style>\n",
       "<table border=\"1\" class=\"dataframe\">\n",
       "  <thead>\n",
       "    <tr style=\"text-align: right;\">\n",
       "      <th></th>\n",
       "      <th>popularity</th>\n",
       "      <th>original_title</th>\n",
       "      <th>genres</th>\n",
       "      <th>vote_count</th>\n",
       "      <th>vote_average</th>\n",
       "      <th>release_year</th>\n",
       "      <th>budget_adj</th>\n",
       "      <th>revenue_adj</th>\n",
       "      <th>gross</th>\n",
       "    </tr>\n",
       "  </thead>\n",
       "  <tbody>\n",
       "    <tr>\n",
       "      <th>0</th>\n",
       "      <td>32.985763</td>\n",
       "      <td>Jurassic World</td>\n",
       "      <td>Action|Adventure|Science Fiction|Thriller</td>\n",
       "      <td>5562</td>\n",
       "      <td>6.5</td>\n",
       "      <td>2015</td>\n",
       "      <td>1.379999e+08</td>\n",
       "      <td>1.392446e+09</td>\n",
       "      <td>1.254446e+09</td>\n",
       "    </tr>\n",
       "    <tr>\n",
       "      <th>1</th>\n",
       "      <td>28.419936</td>\n",
       "      <td>Mad Max: Fury Road</td>\n",
       "      <td>Action|Adventure|Science Fiction|Thriller</td>\n",
       "      <td>6185</td>\n",
       "      <td>7.1</td>\n",
       "      <td>2015</td>\n",
       "      <td>1.379999e+08</td>\n",
       "      <td>3.481613e+08</td>\n",
       "      <td>2.101614e+08</td>\n",
       "    </tr>\n",
       "    <tr>\n",
       "      <th>2</th>\n",
       "      <td>13.112507</td>\n",
       "      <td>Insurgent</td>\n",
       "      <td>Adventure|Science Fiction|Thriller</td>\n",
       "      <td>2480</td>\n",
       "      <td>6.3</td>\n",
       "      <td>2015</td>\n",
       "      <td>1.012000e+08</td>\n",
       "      <td>2.716190e+08</td>\n",
       "      <td>1.704191e+08</td>\n",
       "    </tr>\n",
       "  </tbody>\n",
       "</table>\n",
       "</div>"
      ],
      "text/plain": [
       "   popularity      original_title                                     genres  \\\n",
       "0   32.985763      Jurassic World  Action|Adventure|Science Fiction|Thriller   \n",
       "1   28.419936  Mad Max: Fury Road  Action|Adventure|Science Fiction|Thriller   \n",
       "2   13.112507           Insurgent         Adventure|Science Fiction|Thriller   \n",
       "\n",
       "   vote_count  vote_average  release_year    budget_adj   revenue_adj  \\\n",
       "0        5562           6.5          2015  1.379999e+08  1.392446e+09   \n",
       "1        6185           7.1          2015  1.379999e+08  3.481613e+08   \n",
       "2        2480           6.3          2015  1.012000e+08  2.716190e+08   \n",
       "\n",
       "          gross  \n",
       "0  1.254446e+09  \n",
       "1  2.101614e+08  \n",
       "2  1.704191e+08  "
      ]
     },
     "execution_count": 30,
     "metadata": {},
     "output_type": "execute_result"
    }
   ],
   "source": [
    "# we can use the dataset that before spliting the genres since we are looking for the relationship between polularity and average vote of each movie\n",
    "df_genres.head(3)\n"
   ]
  },
  {
   "cell_type": "code",
   "execution_count": 31,
   "metadata": {},
   "outputs": [
    {
     "data": {
      "text/html": [
       "<div>\n",
       "<style scoped>\n",
       "    .dataframe tbody tr th:only-of-type {\n",
       "        vertical-align: middle;\n",
       "    }\n",
       "\n",
       "    .dataframe tbody tr th {\n",
       "        vertical-align: top;\n",
       "    }\n",
       "\n",
       "    .dataframe thead th {\n",
       "        text-align: right;\n",
       "    }\n",
       "</style>\n",
       "<table border=\"1\" class=\"dataframe\">\n",
       "  <thead>\n",
       "    <tr style=\"text-align: right;\">\n",
       "      <th></th>\n",
       "      <th>popularity</th>\n",
       "      <th>vote_count</th>\n",
       "      <th>vote_average</th>\n",
       "      <th>release_year</th>\n",
       "      <th>budget_adj</th>\n",
       "      <th>revenue_adj</th>\n",
       "      <th>gross</th>\n",
       "    </tr>\n",
       "  </thead>\n",
       "  <tbody>\n",
       "    <tr>\n",
       "      <th>count</th>\n",
       "      <td>10842.000000</td>\n",
       "      <td>10842.000000</td>\n",
       "      <td>10842.000000</td>\n",
       "      <td>10842.000000</td>\n",
       "      <td>1.084200e+04</td>\n",
       "      <td>1.084200e+04</td>\n",
       "      <td>1.084200e+04</td>\n",
       "    </tr>\n",
       "    <tr>\n",
       "      <th>mean</th>\n",
       "      <td>0.647461</td>\n",
       "      <td>217.823649</td>\n",
       "      <td>5.974064</td>\n",
       "      <td>2001.314794</td>\n",
       "      <td>1.758712e+07</td>\n",
       "      <td>5.147797e+07</td>\n",
       "      <td>3.389085e+07</td>\n",
       "    </tr>\n",
       "    <tr>\n",
       "      <th>std</th>\n",
       "      <td>1.001032</td>\n",
       "      <td>576.180993</td>\n",
       "      <td>0.934257</td>\n",
       "      <td>12.813617</td>\n",
       "      <td>3.433437e+07</td>\n",
       "      <td>1.447723e+08</td>\n",
       "      <td>1.253424e+08</td>\n",
       "    </tr>\n",
       "    <tr>\n",
       "      <th>min</th>\n",
       "      <td>0.000065</td>\n",
       "      <td>10.000000</td>\n",
       "      <td>1.500000</td>\n",
       "      <td>1960.000000</td>\n",
       "      <td>0.000000e+00</td>\n",
       "      <td>0.000000e+00</td>\n",
       "      <td>-4.139124e+08</td>\n",
       "    </tr>\n",
       "    <tr>\n",
       "      <th>25%</th>\n",
       "      <td>0.208210</td>\n",
       "      <td>17.000000</td>\n",
       "      <td>5.400000</td>\n",
       "      <td>1995.000000</td>\n",
       "      <td>0.000000e+00</td>\n",
       "      <td>0.000000e+00</td>\n",
       "      <td>0.000000e+00</td>\n",
       "    </tr>\n",
       "    <tr>\n",
       "      <th>50%</th>\n",
       "      <td>0.384532</td>\n",
       "      <td>38.000000</td>\n",
       "      <td>6.000000</td>\n",
       "      <td>2006.000000</td>\n",
       "      <td>0.000000e+00</td>\n",
       "      <td>0.000000e+00</td>\n",
       "      <td>0.000000e+00</td>\n",
       "    </tr>\n",
       "    <tr>\n",
       "      <th>75%</th>\n",
       "      <td>0.715393</td>\n",
       "      <td>146.000000</td>\n",
       "      <td>6.600000</td>\n",
       "      <td>2011.000000</td>\n",
       "      <td>2.092507e+07</td>\n",
       "      <td>3.387838e+07</td>\n",
       "      <td>1.308384e+07</td>\n",
       "    </tr>\n",
       "    <tr>\n",
       "      <th>max</th>\n",
       "      <td>32.985763</td>\n",
       "      <td>9767.000000</td>\n",
       "      <td>9.200000</td>\n",
       "      <td>2015.000000</td>\n",
       "      <td>4.250000e+08</td>\n",
       "      <td>2.827124e+09</td>\n",
       "      <td>2.750137e+09</td>\n",
       "    </tr>\n",
       "  </tbody>\n",
       "</table>\n",
       "</div>"
      ],
      "text/plain": [
       "         popularity    vote_count  vote_average  release_year    budget_adj  \\\n",
       "count  10842.000000  10842.000000  10842.000000  10842.000000  1.084200e+04   \n",
       "mean       0.647461    217.823649      5.974064   2001.314794  1.758712e+07   \n",
       "std        1.001032    576.180993      0.934257     12.813617  3.433437e+07   \n",
       "min        0.000065     10.000000      1.500000   1960.000000  0.000000e+00   \n",
       "25%        0.208210     17.000000      5.400000   1995.000000  0.000000e+00   \n",
       "50%        0.384532     38.000000      6.000000   2006.000000  0.000000e+00   \n",
       "75%        0.715393    146.000000      6.600000   2011.000000  2.092507e+07   \n",
       "max       32.985763   9767.000000      9.200000   2015.000000  4.250000e+08   \n",
       "\n",
       "        revenue_adj         gross  \n",
       "count  1.084200e+04  1.084200e+04  \n",
       "mean   5.147797e+07  3.389085e+07  \n",
       "std    1.447723e+08  1.253424e+08  \n",
       "min    0.000000e+00 -4.139124e+08  \n",
       "25%    0.000000e+00  0.000000e+00  \n",
       "50%    0.000000e+00  0.000000e+00  \n",
       "75%    3.387838e+07  1.308384e+07  \n",
       "max    2.827124e+09  2.750137e+09  "
      ]
     },
     "execution_count": 31,
     "metadata": {},
     "output_type": "execute_result"
    }
   ],
   "source": [
    "df_genres.describe()"
   ]
  },
  {
   "cell_type": "code",
   "execution_count": 32,
   "metadata": {},
   "outputs": [
    {
     "data": {
      "image/png": "[encoded data removed]",
      "text/plain": [
       "<matplotlib.figure.Figure at 0x7f4567e8ce80>"
      ]
     },
     "metadata": {
      "needs_background": "light"
     },
     "output_type": "display_data"
    }
   ],
   "source": [
    "# Histograms for Various Features\n",
    "df_genres.hist(figsize= (12,12));"
   ]
  },
  {
   "cell_type": "markdown",
   "metadata": {},
   "source": [
    "#### It's quite obvious to see that all variables are skewed except one variable is closed to a normal distribution, which is \"vote_average\". "
   ]
  },
  {
   "cell_type": "code",
   "execution_count": 33,
   "metadata": {},
   "outputs": [
    {
     "data": {
      "image/png": "[encoded data removed]",
      "text/plain": [
       "<matplotlib.figure.Figure at 0x7f45684b9358>"
      ]
     },
     "metadata": {
      "needs_background": "light"
     },
     "output_type": "display_data"
    }
   ],
   "source": [
    "# plot relationship between polularity and average vote for each movie\n",
    "df_genres.plot (x = 'popularity', y='vote_average', kind = 'scatter');"
   ]
  },
  {
   "cell_type": "markdown",
   "metadata": {},
   "source": [
    "#### From the plot, there is no clear linear postive relationship between a movie's  popularity and its vote average. Also, many movies were rated around 6, which is very close to its mean and median (see above description table)."
   ]
  },
  {
   "cell_type": "markdown",
   "metadata": {},
   "source": [
    "### Research Question 8: In general, does higher popularity have higher profit?"
   ]
  },
  {
   "cell_type": "code",
   "execution_count": 34,
   "metadata": {},
   "outputs": [
    {
     "data": {
      "text/html": [
       "<div>\n",
       "<style scoped>\n",
       "    .dataframe tbody tr th:only-of-type {\n",
       "        vertical-align: middle;\n",
       "    }\n",
       "\n",
       "    .dataframe tbody tr th {\n",
       "        vertical-align: top;\n",
       "    }\n",
       "\n",
       "    .dataframe thead th {\n",
       "        text-align: right;\n",
       "    }\n",
       "</style>\n",
       "<table border=\"1\" class=\"dataframe\">\n",
       "  <thead>\n",
       "    <tr style=\"text-align: right;\">\n",
       "      <th></th>\n",
       "      <th>popularity</th>\n",
       "      <th>original_title</th>\n",
       "      <th>genres</th>\n",
       "      <th>vote_count</th>\n",
       "      <th>vote_average</th>\n",
       "      <th>release_year</th>\n",
       "      <th>budget_adj</th>\n",
       "      <th>revenue_adj</th>\n",
       "      <th>gross_million</th>\n",
       "    </tr>\n",
       "  </thead>\n",
       "  <tbody>\n",
       "    <tr>\n",
       "      <th>0</th>\n",
       "      <td>32.985763</td>\n",
       "      <td>Jurassic World</td>\n",
       "      <td>Action|Adventure|Science Fiction|Thriller</td>\n",
       "      <td>5562</td>\n",
       "      <td>6.5</td>\n",
       "      <td>2015</td>\n",
       "      <td>1.379999e+08</td>\n",
       "      <td>1.392446e+09</td>\n",
       "      <td>1254.445953</td>\n",
       "    </tr>\n",
       "    <tr>\n",
       "      <th>1</th>\n",
       "      <td>28.419936</td>\n",
       "      <td>Mad Max: Fury Road</td>\n",
       "      <td>Action|Adventure|Science Fiction|Thriller</td>\n",
       "      <td>6185</td>\n",
       "      <td>7.1</td>\n",
       "      <td>2015</td>\n",
       "      <td>1.379999e+08</td>\n",
       "      <td>3.481613e+08</td>\n",
       "      <td>210.161353</td>\n",
       "    </tr>\n",
       "    <tr>\n",
       "      <th>2</th>\n",
       "      <td>13.112507</td>\n",
       "      <td>Insurgent</td>\n",
       "      <td>Adventure|Science Fiction|Thriller</td>\n",
       "      <td>2480</td>\n",
       "      <td>6.3</td>\n",
       "      <td>2015</td>\n",
       "      <td>1.012000e+08</td>\n",
       "      <td>2.716190e+08</td>\n",
       "      <td>170.419070</td>\n",
       "    </tr>\n",
       "  </tbody>\n",
       "</table>\n",
       "</div>"
      ],
      "text/plain": [
       "   popularity      original_title                                     genres  \\\n",
       "0   32.985763      Jurassic World  Action|Adventure|Science Fiction|Thriller   \n",
       "1   28.419936  Mad Max: Fury Road  Action|Adventure|Science Fiction|Thriller   \n",
       "2   13.112507           Insurgent         Adventure|Science Fiction|Thriller   \n",
       "\n",
       "   vote_count  vote_average  release_year    budget_adj   revenue_adj  \\\n",
       "0        5562           6.5          2015  1.379999e+08  1.392446e+09   \n",
       "1        6185           7.1          2015  1.379999e+08  3.481613e+08   \n",
       "2        2480           6.3          2015  1.012000e+08  2.716190e+08   \n",
       "\n",
       "   gross_million  \n",
       "0    1254.445953  \n",
       "1     210.161353  \n",
       "2     170.419070  "
      ]
     },
     "execution_count": 34,
     "metadata": {},
     "output_type": "execute_result"
    }
   ],
   "source": [
    "# for better comparison and visualization, we can use million format for variable \"gross\" \n",
    "\n",
    "df_genres ['gross_million'] = df_genres['gross']/1000000\n",
    "df_genres.drop(['gross'], axis=1, inplace = True)\n",
    "\n",
    "df_genres.head(3)\n"
   ]
  },
  {
   "cell_type": "code",
   "execution_count": 35,
   "metadata": {},
   "outputs": [
    {
     "data": {
      "image/png": "[encoded data removed]",
      "text/plain": [
       "<matplotlib.figure.Figure at 0x7f4567f6ac88>"
      ]
     },
     "metadata": {
      "needs_background": "light"
     },
     "output_type": "display_data"
    }
   ],
   "source": [
    "# plot relationship between polularity and average vote for each movie\n",
    "df_genres.plot (x = 'popularity', y='gross_million', kind = 'scatter');"
   ]
  },
  {
   "cell_type": "markdown",
   "metadata": {},
   "source": [
    "#### From the plot, we can see the popularity and profit have a moderate linear postive relationship even though their correlation coefficient is unknown at this moment."
   ]
  },
  {
   "cell_type": "markdown",
   "metadata": {},
   "source": [
    "<a id='conclusions'></a>\n",
    "## Conclusions\n",
    "\n",
    "> 1. The 3 most popular movies are Adventure, Sciencee Fiction and Fantasy, and the 3 movie genres with higher average profit are Adventure, Fantasy and Family. Therefore, based on this trend, if you want to produce or investment a movie, Adventure and Fantasy movies are solid choices. However, you might also need to have sufficient capital due to high costs of production.\n",
    "> 2. Documentary, Music and History are the top 3 movie genres that having high average voting rate, however, they have pretty low popularity.\n",
    "> 3. Drama, Comedy and Thriller are the top 3 movie genres that produced the most from year to year due to low producation cost/budget.\n",
    "> 4. Movies with high popularity are likely to bring high profitability.\n",
    "\n",
    "\n",
    "\n",
    "## Submitting your Project \n",
    "\n",
    "> Before you submit your project, you need to create a .html or .pdf version of this notebook in the workspace here. To do that, run the code cell below. If it worked correctly, you should get a return code of 0, and you should see the generated .html file in the workspace directory (click on the orange Jupyter icon in the upper left).\n",
    "\n",
    "> Alternatively, you can download this report as .html via the **File** > **Download as** submenu, and then manually upload it into the workspace directory by clicking on the orange Jupyter icon in the upper left, then using the Upload button.\n",
    "\n",
    "> Once you've done this, you can submit your project by clicking on the \"Submit Project\" button in the lower right here. This will create and submit a zip file with this .ipynb doc and the .html or .pdf version you created. Congratulations!"
   ]
  },
  {
   "cell_type": "code",
   "execution_count": 36,
   "metadata": {},
   "outputs": [
    {
     "data": {
      "text/plain": [
       "0"
      ]
     },
     "execution_count": 36,
     "metadata": {},
     "output_type": "execute_result"
    }
   ],
   "source": [
    "from subprocess import call\n",
    "call(['python', '-m', 'nbconvert', 'Investigate_a_Dataset.ipynb'])"
   ]
  },
  {
   "cell_type": "code",
   "execution_count": null,
   "metadata": {},
   "outputs": [],
   "source": []
  }
 ],
 "metadata": {
  "kernelspec": {
   "display_name": "Python 3",
   "language": "python",
   "name": "python3"
  },
  "language_info": {
   "codemirror_mode": {
    "name": "ipython",
    "version": 3
   },
   "file_extension": ".py",
   "mimetype": "text/x-python",
   "name": "python",
   "nbconvert_exporter": "python",
   "pygments_lexer": "ipython3",
   "version": "3.6.3"
  }
 },
 "nbformat": 4,
 "nbformat_minor": 2
}
