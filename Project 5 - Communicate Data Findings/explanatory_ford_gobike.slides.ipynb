{
 "cells": [
  {
   "cell_type": "markdown",
   "metadata": {
    "slideshow": {
     "slide_type": "slide"
    }
   },
   "source": [
    "# Effects of Ford GoBike Trip Characteristics on Their Duration\n",
    "\n",
    "**by Amanda Zhou** <br>\n",
    "**September 05, 2020**"
   ]
  },
  {
   "cell_type": "markdown",
   "metadata": {
    "slideshow": {
     "slide_type": "slide"
    }
   },
   "source": [
    "## Investigation Overview\n",
    "\n",
    "In this investigation, I wanted to look at the characteristics of trips that could be used to predict their duration. The main focus was on the three factors of trips: User Type, Start Time (includes Hour of the Day and Day of the Week), and Distance (based on Start and End Station's latitude and longitude).\n",
    "\n"
   ]
  },
  {
   "cell_type": "markdown",
   "metadata": {
    "slideshow": {
     "slide_type": "slide"
    }
   },
   "source": [
    "## Dataset Overview\n",
    "\n",
    "This data set includes information about 192,082 individual rides made in a bike-sharing system covering the greater San Francisco Bay area for January 2019. 248 data points were removed from the analysis due to inconsistencies or missing information. Below are the attributes of each trip. I will extract the hours and days from Start Time, and caculate the trip distance based on its start and end station's latitude and longitude. \n",
    "\n",
    "Each trip is anonymized and includes:\n",
    "- Trip Duration (seconds)\n",
    "- Start Time and Date\n",
    "- End Time and Date\n",
    "- Start Station ID\n",
    "- Start Station Name\n",
    "- Start Station Latitude\n",
    "- Start Station Longitude\n",
    "- End Station ID\n",
    "- End Station Name\n",
    "- End Station Latitude\n",
    "- End Station Longitude\n",
    "- Bike ID\n",
    "- User Type (“Subscriber” = Member or “Customer” = Casual)\n",
    "- Bike Share for All Trip"
   ]
  },
  {
   "cell_type": "markdown",
   "metadata": {
    "slideshow": {
     "slide_type": "skip"
    }
   },
   "source": [
    "## Table of Contents\n",
    "- [Preliminary Wrangling](#pw)\n",
    "- [Univariate Exploration](#ue)\n",
    "- [Bivariate Exploration](#be)\n",
    "- [Multivariate Exploration](#me)\n",
    "\n",
    "\n",
    "<a id='pw'></a>\n",
    "## Preliminary Wrangling"
   ]
  },
  {
   "cell_type": "code",
   "execution_count": 1,
   "metadata": {
    "slideshow": {
     "slide_type": "skip"
    }
   },
   "outputs": [],
   "source": [
    "# import all packages and set plots to be embedded inline\n",
    "import numpy as np\n",
    "import pandas as pd\n",
    "import matplotlib.pyplot as plt\n",
    "import seaborn as sb\n",
    "\n",
    "%matplotlib inline\n",
    "\n",
    "# suppress warnings from final output\n",
    "import warnings\n",
    "warnings.simplefilter(\"ignore\")"
   ]
  },
  {
   "cell_type": "code",
   "execution_count": 2,
   "metadata": {
    "slideshow": {
     "slide_type": "skip"
    }
   },
   "outputs": [
    {
     "data": {
      "text/html": [
       "<div>\n",
       "<style scoped>\n",
       "    .dataframe tbody tr th:only-of-type {\n",
       "        vertical-align: middle;\n",
       "    }\n",
       "\n",
       "    .dataframe tbody tr th {\n",
       "        vertical-align: top;\n",
       "    }\n",
       "\n",
       "    .dataframe thead th {\n",
       "        text-align: right;\n",
       "    }\n",
       "</style>\n",
       "<table border=\"1\" class=\"dataframe\">\n",
       "  <thead>\n",
       "    <tr style=\"text-align: right;\">\n",
       "      <th></th>\n",
       "      <th>duration_sec</th>\n",
       "      <th>start_time</th>\n",
       "      <th>end_time</th>\n",
       "      <th>start_station_id</th>\n",
       "      <th>start_station_name</th>\n",
       "      <th>start_station_latitude</th>\n",
       "      <th>start_station_longitude</th>\n",
       "      <th>end_station_id</th>\n",
       "      <th>end_station_name</th>\n",
       "      <th>end_station_latitude</th>\n",
       "      <th>end_station_longitude</th>\n",
       "      <th>bike_id</th>\n",
       "      <th>user_type</th>\n",
       "      <th>bike_share_for_all_trip</th>\n",
       "    </tr>\n",
       "  </thead>\n",
       "  <tbody>\n",
       "    <tr>\n",
       "      <th>0</th>\n",
       "      <td>80825</td>\n",
       "      <td>2019-01-31 17:57:44.6130</td>\n",
       "      <td>2019-02-01 16:24:49.8640</td>\n",
       "      <td>229.0</td>\n",
       "      <td>Foothill Blvd at 42nd Ave</td>\n",
       "      <td>37.775745</td>\n",
       "      <td>-122.213037</td>\n",
       "      <td>196.0</td>\n",
       "      <td>Grand Ave at Perkins St</td>\n",
       "      <td>37.808894</td>\n",
       "      <td>-122.256460</td>\n",
       "      <td>4861</td>\n",
       "      <td>Subscriber</td>\n",
       "      <td>No</td>\n",
       "    </tr>\n",
       "    <tr>\n",
       "      <th>1</th>\n",
       "      <td>65900</td>\n",
       "      <td>2019-01-31 20:58:33.8860</td>\n",
       "      <td>2019-02-01 15:16:54.1730</td>\n",
       "      <td>4.0</td>\n",
       "      <td>Cyril Magnin St at Ellis St</td>\n",
       "      <td>37.785881</td>\n",
       "      <td>-122.408915</td>\n",
       "      <td>134.0</td>\n",
       "      <td>Valencia St at 24th St</td>\n",
       "      <td>37.752428</td>\n",
       "      <td>-122.420628</td>\n",
       "      <td>5506</td>\n",
       "      <td>Subscriber</td>\n",
       "      <td>No</td>\n",
       "    </tr>\n",
       "    <tr>\n",
       "      <th>2</th>\n",
       "      <td>62633</td>\n",
       "      <td>2019-01-31 18:06:52.9240</td>\n",
       "      <td>2019-02-01 11:30:46.5300</td>\n",
       "      <td>245.0</td>\n",
       "      <td>Downtown Berkeley BART</td>\n",
       "      <td>37.870139</td>\n",
       "      <td>-122.268422</td>\n",
       "      <td>157.0</td>\n",
       "      <td>65th St at Hollis St</td>\n",
       "      <td>37.846784</td>\n",
       "      <td>-122.291376</td>\n",
       "      <td>2717</td>\n",
       "      <td>Customer</td>\n",
       "      <td>No</td>\n",
       "    </tr>\n",
       "    <tr>\n",
       "      <th>3</th>\n",
       "      <td>44680</td>\n",
       "      <td>2019-01-31 19:46:09.7190</td>\n",
       "      <td>2019-02-01 08:10:50.3180</td>\n",
       "      <td>85.0</td>\n",
       "      <td>Church St at Duboce Ave</td>\n",
       "      <td>37.770083</td>\n",
       "      <td>-122.429156</td>\n",
       "      <td>53.0</td>\n",
       "      <td>Grove St at Divisadero</td>\n",
       "      <td>37.775946</td>\n",
       "      <td>-122.437777</td>\n",
       "      <td>4557</td>\n",
       "      <td>Customer</td>\n",
       "      <td>No</td>\n",
       "    </tr>\n",
       "    <tr>\n",
       "      <th>4</th>\n",
       "      <td>60709</td>\n",
       "      <td>2019-01-31 14:19:01.5410</td>\n",
       "      <td>2019-02-01 07:10:51.0650</td>\n",
       "      <td>16.0</td>\n",
       "      <td>Steuart St at Market St</td>\n",
       "      <td>37.794130</td>\n",
       "      <td>-122.394430</td>\n",
       "      <td>28.0</td>\n",
       "      <td>The Embarcadero at Bryant St</td>\n",
       "      <td>37.787168</td>\n",
       "      <td>-122.388098</td>\n",
       "      <td>2100</td>\n",
       "      <td>Customer</td>\n",
       "      <td>No</td>\n",
       "    </tr>\n",
       "  </tbody>\n",
       "</table>\n",
       "</div>"
      ],
      "text/plain": [
       "   duration_sec                start_time                  end_time  \\\n",
       "0         80825  2019-01-31 17:57:44.6130  2019-02-01 16:24:49.8640   \n",
       "1         65900  2019-01-31 20:58:33.8860  2019-02-01 15:16:54.1730   \n",
       "2         62633  2019-01-31 18:06:52.9240  2019-02-01 11:30:46.5300   \n",
       "3         44680  2019-01-31 19:46:09.7190  2019-02-01 08:10:50.3180   \n",
       "4         60709  2019-01-31 14:19:01.5410  2019-02-01 07:10:51.0650   \n",
       "\n",
       "   start_station_id           start_station_name  start_station_latitude  \\\n",
       "0             229.0    Foothill Blvd at 42nd Ave               37.775745   \n",
       "1               4.0  Cyril Magnin St at Ellis St               37.785881   \n",
       "2             245.0       Downtown Berkeley BART               37.870139   \n",
       "3              85.0      Church St at Duboce Ave               37.770083   \n",
       "4              16.0      Steuart St at Market St               37.794130   \n",
       "\n",
       "   start_station_longitude  end_station_id              end_station_name  \\\n",
       "0              -122.213037           196.0       Grand Ave at Perkins St   \n",
       "1              -122.408915           134.0        Valencia St at 24th St   \n",
       "2              -122.268422           157.0          65th St at Hollis St   \n",
       "3              -122.429156            53.0        Grove St at Divisadero   \n",
       "4              -122.394430            28.0  The Embarcadero at Bryant St   \n",
       "\n",
       "   end_station_latitude  end_station_longitude  bike_id   user_type  \\\n",
       "0             37.808894            -122.256460     4861  Subscriber   \n",
       "1             37.752428            -122.420628     5506  Subscriber   \n",
       "2             37.846784            -122.291376     2717    Customer   \n",
       "3             37.775946            -122.437777     4557    Customer   \n",
       "4             37.787168            -122.388098     2100    Customer   \n",
       "\n",
       "  bike_share_for_all_trip  \n",
       "0                      No  \n",
       "1                      No  \n",
       "2                      No  \n",
       "3                      No  \n",
       "4                      No  "
      ]
     },
     "execution_count": 2,
     "metadata": {},
     "output_type": "execute_result"
    }
   ],
   "source": [
    "# load in the dataset into a pandas dataframe, print statistics\n",
    "df = pd.read_csv('201901-fordgobike-tripdata.csv')\n",
    "df.head()"
   ]
  },
  {
   "cell_type": "code",
   "execution_count": 3,
   "metadata": {
    "slideshow": {
     "slide_type": "skip"
    }
   },
   "outputs": [
    {
     "data": {
      "text/plain": [
       "(192082, 14)"
      ]
     },
     "execution_count": 3,
     "metadata": {},
     "output_type": "execute_result"
    }
   ],
   "source": [
    "# high-level overview of data shape and composition\n",
    "df.shape"
   ]
  },
  {
   "cell_type": "code",
   "execution_count": 4,
   "metadata": {
    "slideshow": {
     "slide_type": "skip"
    }
   },
   "outputs": [
    {
     "data": {
      "text/plain": [
       "0"
      ]
     },
     "execution_count": 4,
     "metadata": {},
     "output_type": "execute_result"
    }
   ],
   "source": [
    "# check duplicated entries\n",
    "df.duplicated().sum()"
   ]
  },
  {
   "cell_type": "code",
   "execution_count": 5,
   "metadata": {
    "slideshow": {
     "slide_type": "skip"
    }
   },
   "outputs": [
    {
     "data": {
      "text/plain": [
       "duration_sec                 0\n",
       "start_time                   0\n",
       "end_time                     0\n",
       "start_station_id           248\n",
       "start_station_name         248\n",
       "start_station_latitude       0\n",
       "start_station_longitude      0\n",
       "end_station_id             248\n",
       "end_station_name           248\n",
       "end_station_latitude         0\n",
       "end_station_longitude        0\n",
       "bike_id                      0\n",
       "user_type                    0\n",
       "bike_share_for_all_trip      0\n",
       "dtype: int64"
      ]
     },
     "execution_count": 5,
     "metadata": {},
     "output_type": "execute_result"
    }
   ],
   "source": [
    "# check missing values\n",
    "df.isnull().sum()"
   ]
  },
  {
   "cell_type": "code",
   "execution_count": 6,
   "metadata": {
    "slideshow": {
     "slide_type": "skip"
    }
   },
   "outputs": [],
   "source": [
    "# drop rows that contain null\n",
    "df = df.dropna()\n",
    "df = df.reset_index(drop=True)"
   ]
  },
  {
   "cell_type": "code",
   "execution_count": 7,
   "metadata": {
    "slideshow": {
     "slide_type": "skip"
    }
   },
   "outputs": [
    {
     "data": {
      "text/plain": [
       "duration_sec               0\n",
       "start_time                 0\n",
       "end_time                   0\n",
       "start_station_id           0\n",
       "start_station_name         0\n",
       "start_station_latitude     0\n",
       "start_station_longitude    0\n",
       "end_station_id             0\n",
       "end_station_name           0\n",
       "end_station_latitude       0\n",
       "end_station_longitude      0\n",
       "bike_id                    0\n",
       "user_type                  0\n",
       "bike_share_for_all_trip    0\n",
       "dtype: int64"
      ]
     },
     "execution_count": 7,
     "metadata": {},
     "output_type": "execute_result"
    }
   ],
   "source": [
    "# check if have any null values again -> should be all 0s\n",
    "df.isnull().sum()"
   ]
  },
  {
   "cell_type": "code",
   "execution_count": 8,
   "metadata": {
    "slideshow": {
     "slide_type": "skip"
    }
   },
   "outputs": [
    {
     "name": "stdout",
     "output_type": "stream",
     "text": [
      "<class 'pandas.core.frame.DataFrame'>\n",
      "RangeIndex: 191834 entries, 0 to 191833\n",
      "Data columns (total 14 columns):\n",
      " #   Column                   Non-Null Count   Dtype  \n",
      "---  ------                   --------------   -----  \n",
      " 0   duration_sec             191834 non-null  int64  \n",
      " 1   start_time               191834 non-null  object \n",
      " 2   end_time                 191834 non-null  object \n",
      " 3   start_station_id         191834 non-null  float64\n",
      " 4   start_station_name       191834 non-null  object \n",
      " 5   start_station_latitude   191834 non-null  float64\n",
      " 6   start_station_longitude  191834 non-null  float64\n",
      " 7   end_station_id           191834 non-null  float64\n",
      " 8   end_station_name         191834 non-null  object \n",
      " 9   end_station_latitude     191834 non-null  float64\n",
      " 10  end_station_longitude    191834 non-null  float64\n",
      " 11  bike_id                  191834 non-null  int64  \n",
      " 12  user_type                191834 non-null  object \n",
      " 13  bike_share_for_all_trip  191834 non-null  object \n",
      "dtypes: float64(6), int64(2), object(6)\n",
      "memory usage: 20.5+ MB\n"
     ]
    }
   ],
   "source": [
    "df.info()"
   ]
  },
  {
   "cell_type": "code",
   "execution_count": 9,
   "metadata": {
    "slideshow": {
     "slide_type": "skip"
    }
   },
   "outputs": [],
   "source": [
    "# convert start_time and end_time into datetime type\n",
    "df.start_time = pd.to_datetime(df.start_time)\n",
    "df.end_time = pd.to_datetime(df.end_time)\n",
    "\n",
    "# convert start_station_id and end_station_id  into int data types\n",
    "df.start_station_id = df.start_station_id.astype('int')\n",
    "df.end_station_id = df.end_station_id.astype('int')\n",
    "df.bike_id = df.bike_id.astype('int')\n",
    "\n",
    "# convert user_type into categorical type\n",
    "df.user_type = df.user_type.astype('category')"
   ]
  },
  {
   "cell_type": "code",
   "execution_count": 10,
   "metadata": {
    "slideshow": {
     "slide_type": "skip"
    }
   },
   "outputs": [
    {
     "name": "stdout",
     "output_type": "stream",
     "text": [
      "<class 'pandas.core.frame.DataFrame'>\n",
      "RangeIndex: 191834 entries, 0 to 191833\n",
      "Data columns (total 14 columns):\n",
      " #   Column                   Non-Null Count   Dtype         \n",
      "---  ------                   --------------   -----         \n",
      " 0   duration_sec             191834 non-null  int64         \n",
      " 1   start_time               191834 non-null  datetime64[ns]\n",
      " 2   end_time                 191834 non-null  datetime64[ns]\n",
      " 3   start_station_id         191834 non-null  int64         \n",
      " 4   start_station_name       191834 non-null  object        \n",
      " 5   start_station_latitude   191834 non-null  float64       \n",
      " 6   start_station_longitude  191834 non-null  float64       \n",
      " 7   end_station_id           191834 non-null  int64         \n",
      " 8   end_station_name         191834 non-null  object        \n",
      " 9   end_station_latitude     191834 non-null  float64       \n",
      " 10  end_station_longitude    191834 non-null  float64       \n",
      " 11  bike_id                  191834 non-null  int64         \n",
      " 12  user_type                191834 non-null  category      \n",
      " 13  bike_share_for_all_trip  191834 non-null  object        \n",
      "dtypes: category(1), datetime64[ns](2), float64(4), int64(4), object(3)\n",
      "memory usage: 19.2+ MB\n"
     ]
    }
   ],
   "source": [
    "# check dataset after conversion\n",
    "df.info()"
   ]
  },
  {
   "cell_type": "code",
   "execution_count": 11,
   "metadata": {
    "slideshow": {
     "slide_type": "skip"
    }
   },
   "outputs": [
    {
     "data": {
      "text/html": [
       "<div>\n",
       "<style scoped>\n",
       "    .dataframe tbody tr th:only-of-type {\n",
       "        vertical-align: middle;\n",
       "    }\n",
       "\n",
       "    .dataframe tbody tr th {\n",
       "        vertical-align: top;\n",
       "    }\n",
       "\n",
       "    .dataframe thead th {\n",
       "        text-align: right;\n",
       "    }\n",
       "</style>\n",
       "<table border=\"1\" class=\"dataframe\">\n",
       "  <thead>\n",
       "    <tr style=\"text-align: right;\">\n",
       "      <th></th>\n",
       "      <th>duration_sec</th>\n",
       "      <th>start_station_id</th>\n",
       "      <th>start_station_latitude</th>\n",
       "      <th>start_station_longitude</th>\n",
       "      <th>end_station_id</th>\n",
       "      <th>end_station_latitude</th>\n",
       "      <th>end_station_longitude</th>\n",
       "      <th>bike_id</th>\n",
       "    </tr>\n",
       "  </thead>\n",
       "  <tbody>\n",
       "    <tr>\n",
       "      <th>count</th>\n",
       "      <td>191834.000000</td>\n",
       "      <td>191834.000000</td>\n",
       "      <td>191834.000000</td>\n",
       "      <td>191834.000000</td>\n",
       "      <td>191834.000000</td>\n",
       "      <td>191834.000000</td>\n",
       "      <td>191834.000000</td>\n",
       "      <td>191834.000000</td>\n",
       "    </tr>\n",
       "    <tr>\n",
       "      <th>mean</th>\n",
       "      <td>750.258635</td>\n",
       "      <td>132.841639</td>\n",
       "      <td>37.773916</td>\n",
       "      <td>-122.358361</td>\n",
       "      <td>131.218700</td>\n",
       "      <td>37.774047</td>\n",
       "      <td>-122.357959</td>\n",
       "      <td>4028.841321</td>\n",
       "    </tr>\n",
       "    <tr>\n",
       "      <th>std</th>\n",
       "      <td>1670.124794</td>\n",
       "      <td>109.662417</td>\n",
       "      <td>0.090521</td>\n",
       "      <td>0.108502</td>\n",
       "      <td>109.546275</td>\n",
       "      <td>0.090420</td>\n",
       "      <td>0.108087</td>\n",
       "      <td>1572.295525</td>\n",
       "    </tr>\n",
       "    <tr>\n",
       "      <th>min</th>\n",
       "      <td>61.000000</td>\n",
       "      <td>3.000000</td>\n",
       "      <td>37.317298</td>\n",
       "      <td>-122.453704</td>\n",
       "      <td>3.000000</td>\n",
       "      <td>37.317298</td>\n",
       "      <td>-122.453704</td>\n",
       "      <td>11.000000</td>\n",
       "    </tr>\n",
       "    <tr>\n",
       "      <th>25%</th>\n",
       "      <td>333.000000</td>\n",
       "      <td>43.000000</td>\n",
       "      <td>37.770407</td>\n",
       "      <td>-122.412408</td>\n",
       "      <td>41.000000</td>\n",
       "      <td>37.771058</td>\n",
       "      <td>-122.411726</td>\n",
       "      <td>3085.000000</td>\n",
       "    </tr>\n",
       "    <tr>\n",
       "      <th>50%</th>\n",
       "      <td>528.000000</td>\n",
       "      <td>98.000000</td>\n",
       "      <td>37.781010</td>\n",
       "      <td>-122.398525</td>\n",
       "      <td>95.000000</td>\n",
       "      <td>37.781010</td>\n",
       "      <td>-122.398436</td>\n",
       "      <td>4749.000000</td>\n",
       "    </tr>\n",
       "    <tr>\n",
       "      <th>75%</th>\n",
       "      <td>821.000000</td>\n",
       "      <td>211.000000</td>\n",
       "      <td>37.795913</td>\n",
       "      <td>-122.294837</td>\n",
       "      <td>203.000000</td>\n",
       "      <td>37.797280</td>\n",
       "      <td>-122.294837</td>\n",
       "      <td>5173.000000</td>\n",
       "    </tr>\n",
       "    <tr>\n",
       "      <th>max</th>\n",
       "      <td>84002.000000</td>\n",
       "      <td>385.000000</td>\n",
       "      <td>37.880222</td>\n",
       "      <td>-121.874119</td>\n",
       "      <td>385.000000</td>\n",
       "      <td>37.880222</td>\n",
       "      <td>-121.874119</td>\n",
       "      <td>6638.000000</td>\n",
       "    </tr>\n",
       "  </tbody>\n",
       "</table>\n",
       "</div>"
      ],
      "text/plain": [
       "        duration_sec  start_station_id  start_station_latitude  \\\n",
       "count  191834.000000     191834.000000           191834.000000   \n",
       "mean      750.258635        132.841639               37.773916   \n",
       "std      1670.124794        109.662417                0.090521   \n",
       "min        61.000000          3.000000               37.317298   \n",
       "25%       333.000000         43.000000               37.770407   \n",
       "50%       528.000000         98.000000               37.781010   \n",
       "75%       821.000000        211.000000               37.795913   \n",
       "max     84002.000000        385.000000               37.880222   \n",
       "\n",
       "       start_station_longitude  end_station_id  end_station_latitude  \\\n",
       "count            191834.000000   191834.000000         191834.000000   \n",
       "mean               -122.358361      131.218700             37.774047   \n",
       "std                   0.108502      109.546275              0.090420   \n",
       "min                -122.453704        3.000000             37.317298   \n",
       "25%                -122.412408       41.000000             37.771058   \n",
       "50%                -122.398525       95.000000             37.781010   \n",
       "75%                -122.294837      203.000000             37.797280   \n",
       "max                -121.874119      385.000000             37.880222   \n",
       "\n",
       "       end_station_longitude        bike_id  \n",
       "count          191834.000000  191834.000000  \n",
       "mean             -122.357959    4028.841321  \n",
       "std                 0.108087    1572.295525  \n",
       "min              -122.453704      11.000000  \n",
       "25%              -122.411726    3085.000000  \n",
       "50%              -122.398436    4749.000000  \n",
       "75%              -122.294837    5173.000000  \n",
       "max              -121.874119    6638.000000  "
      ]
     },
     "execution_count": 11,
     "metadata": {},
     "output_type": "execute_result"
    }
   ],
   "source": [
    "# descriptive statistics for numeric variables\n",
    "df.describe()"
   ]
  },
  {
   "cell_type": "code",
   "execution_count": 12,
   "metadata": {
    "slideshow": {
     "slide_type": "skip"
    }
   },
   "outputs": [],
   "source": [
    "# rename dataset\n",
    "rides = df"
   ]
  },
  {
   "cell_type": "markdown",
   "metadata": {
    "slideshow": {
     "slide_type": "skip"
    }
   },
   "source": [
    "<a id='ue'></a>\n",
    "## Univariate Exploration\n",
    "\n",
    "I'll start by looking at the distribution of the main variable of interest: trip duration (duration_sec)."
   ]
  },
  {
   "cell_type": "markdown",
   "metadata": {
    "slideshow": {
     "slide_type": "slide"
    }
   },
   "source": [
    "## Distribution of Trip Duration\n",
    "\n",
    "Trip Duration in the dataset has a large number of trips are less than 2000 seconds, which is approximately 180,000. Plotted on a logarithmic scale, the distribution of trip duration clearly looks right-skewed, with a peak between 400 and 600 seconds. After the peak, at around 1500 seconds, the number of trips are dropping considerably."
   ]
  },
  {
   "cell_type": "code",
   "execution_count": 13,
   "metadata": {
    "slideshow": {
     "slide_type": "skip"
    }
   },
   "outputs": [
    {
     "data": {
      "image/png": "[encoded data removed]",
      "text/plain": [
       "<Figure size 576x360 with 1 Axes>"
      ]
     },
     "metadata": {
      "needs_background": "light"
     },
     "output_type": "display_data"
    }
   ],
   "source": [
    "# start with a standard-scaled plot\n",
    "binsize = 1000\n",
    "bins = np.arange(0, rides['duration_sec'].max()+binsize, binsize)\n",
    "\n",
    "plt.figure(figsize=[8, 5])\n",
    "plt.hist(data = rides, x = 'duration_sec', bins = bins)\n",
    "plt.xlabel('Duration (sec)')\n",
    "plt.ylabel('Number of Trips')\n",
    "plt.title('Distribution of Trip Duration')\n",
    "plt.axis([0, 8000, 0, 170000])\n",
    "plt.show();"
   ]
  },
  {
   "cell_type": "code",
   "execution_count": 14,
   "metadata": {
    "slideshow": {
     "slide_type": "subslide"
    }
   },
   "outputs": [
    {
     "data": {
      "image/png": "[encoded data removed]",
      "text/plain": [
       "<Figure size 576x360 with 1 Axes>"
      ]
     },
     "metadata": {
      "needs_background": "light"
     },
     "output_type": "display_data"
    }
   ],
   "source": [
    "# there's a tail in the distribution, so let's put it on a log scale instead\n",
    "log_binsize = 0.05\n",
    "log_bins = 10 ** np.arange(2.4, np.log10(rides['duration_sec'].max())+log_binsize, log_binsize)\n",
    "\n",
    "plt.figure(figsize=[8, 5])\n",
    "plt.hist(data = rides, x = 'duration_sec', bins = log_bins)\n",
    "plt.xscale('log')\n",
    "plt.xticks([500, 1e3, 2e3, 5e3, 1e4, 2e4, 5e4], [500, '1k', '2k', '5k', '10k', '20k', '50k'])\n",
    "plt.xlabel('Duration (sec)')\n",
    "plt.ylabel('Number of Trips')\n",
    "plt.title('Distribution of Trip Duration')\n",
    "plt.show();"
   ]
  },
  {
   "cell_type": "code",
   "execution_count": 15,
   "metadata": {
    "slideshow": {
     "slide_type": "skip"
    }
   },
   "outputs": [],
   "source": [
    "# extract 'hour of the day' and 'day of the week' from 'start_time'\n",
    "rides['hour_of_day'] = rides['start_time'].dt.hour\n",
    "rides['day_of_week'] = rides['start_time'].dt.day_name()"
   ]
  },
  {
   "cell_type": "code",
   "execution_count": 16,
   "metadata": {
    "slideshow": {
     "slide_type": "skip"
    }
   },
   "outputs": [
    {
     "data": {
      "image/png": "[encoded data removed]",
      "text/plain": [
       "<Figure size 576x360 with 1 Axes>"
      ]
     },
     "metadata": {
      "needs_background": "light"
     },
     "output_type": "display_data"
    }
   ],
   "source": [
    "# create the plot for the 'hour of day' of starting time of each trip\n",
    "plt.figure(figsize=[8, 5])\n",
    "base_color = sb.color_palette()[0]\n",
    "\n",
    "sb.countplot(data=rides, x='hour_of_day', color=base_color)\n",
    "plt.title(\"Distribution of Starting Hour of The Day\");"
   ]
  },
  {
   "cell_type": "markdown",
   "metadata": {
    "slideshow": {
     "slide_type": "skip"
    }
   },
   "source": [
    "- **There are two peaks people use Ford GoBike the most during the day. One is from 7 to 9 am, another is from 4 to 6 pm.**\n",
    "- **These two periods are rush hours that people commute to work, school or home.**"
   ]
  },
  {
   "cell_type": "code",
   "execution_count": 17,
   "metadata": {
    "slideshow": {
     "slide_type": "skip"
    }
   },
   "outputs": [
    {
     "data": {
      "image/png": "[encoded data removed]",
      "text/plain": [
       "<Figure size 576x360 with 1 Axes>"
      ]
     },
     "metadata": {
      "needs_background": "light"
     },
     "output_type": "display_data"
    }
   ],
   "source": [
    "# create the plot for the 'day_of_week' of starting time of each trip\n",
    "plt.figure(figsize=[8, 5])\n",
    "base_color = sb.color_palette()[0]\n",
    "\n",
    "day_order = ['Monday', 'Tuesday', 'Wednesday', 'Thursday', 'Friday', 'Saturday', 'Sunday']\n",
    "ordered_cat = pd.api.types.CategoricalDtype(ordered = True, categories = day_order)\n",
    "df['day_of_week'] = df['day_of_week'].astype(ordered_cat)\n",
    "\n",
    "sb.countplot(data=rides, x='day_of_week', color=base_color)\n",
    "plt.title(\"Distribution of The Day of Week\");"
   ]
  },
  {
   "cell_type": "markdown",
   "metadata": {
    "slideshow": {
     "slide_type": "skip"
    }
   },
   "source": [
    "- **It is quite clear to see that the usage amount of Ford GoBike during weekdays is much higher than during weekend.**\n",
    "- **Interestingly, the peak usage is on Thursday.**\n",
    "- **The number of usage is gradually increasing from Monday till Thursday, after that, it is dropping markedly.**\n",
    "\n",
    "Then, I'll calculate and analyze the trip distance in the dataset."
   ]
  },
  {
   "cell_type": "code",
   "execution_count": 18,
   "metadata": {
    "slideshow": {
     "slide_type": "skip"
    }
   },
   "outputs": [],
   "source": [
    "# calculate the trip distance between start and end stations\n",
    "\n",
    "from math import sin, cos, sqrt, atan2, radians\n",
    "\n",
    "def distance_calculation(i):\n",
    "\n",
    "    # approximate radius of earth in km\n",
    "    R = 6373.0\n",
    "\n",
    "    lat1 = radians(i.start_station_latitude)\n",
    "    lon1 = radians(i.start_station_longitude)\n",
    "    lat2 = radians(i.end_station_latitude)\n",
    "    lon2 = radians(i.end_station_longitude)\n",
    "\n",
    "    dlon = lon2 - lon1\n",
    "    dlat = lat2 - lat1\n",
    "\n",
    "    a = sin(dlat / 2)**2 + cos(lat1) * cos(lat2) * sin(dlon / 2)**2\n",
    "    c = 2 * atan2(sqrt(a), sqrt(1 - a))\n",
    "\n",
    "    distance = R * c\n",
    "\n",
    "    return distance"
   ]
  },
  {
   "cell_type": "code",
   "execution_count": 19,
   "metadata": {
    "slideshow": {
     "slide_type": "skip"
    }
   },
   "outputs": [],
   "source": [
    "# create trip distance column\n",
    "rides['distance_km'] = rides.apply(lambda i: distance_calculation(i), axis=1)\n",
    "\n",
    "# keep two decimal places \n",
    "rides['distance_km'] = [ '%.2f' % elem for elem in rides['distance_km']]\n",
    "\n",
    "# convert into float type\n",
    "rides['distance_km'] = [float(item) for item in rides['distance_km']]"
   ]
  },
  {
   "cell_type": "code",
   "execution_count": 20,
   "metadata": {
    "slideshow": {
     "slide_type": "skip"
    }
   },
   "outputs": [],
   "source": [
    "# drop unnecessary columns: start_station_latitude, start_station_longitude, end_station_latitude, and end_station_longitude\n",
    "rides.drop (['start_station_latitude', 'start_station_longitude', 'end_station_latitude', 'end_station_longitude'], axis = 1, inplace = True)\n"
   ]
  },
  {
   "cell_type": "code",
   "execution_count": 21,
   "metadata": {
    "slideshow": {
     "slide_type": "skip"
    }
   },
   "outputs": [
    {
     "data": {
      "text/html": [
       "<div>\n",
       "<style scoped>\n",
       "    .dataframe tbody tr th:only-of-type {\n",
       "        vertical-align: middle;\n",
       "    }\n",
       "\n",
       "    .dataframe tbody tr th {\n",
       "        vertical-align: top;\n",
       "    }\n",
       "\n",
       "    .dataframe thead th {\n",
       "        text-align: right;\n",
       "    }\n",
       "</style>\n",
       "<table border=\"1\" class=\"dataframe\">\n",
       "  <thead>\n",
       "    <tr style=\"text-align: right;\">\n",
       "      <th></th>\n",
       "      <th>duration_sec</th>\n",
       "      <th>start_time</th>\n",
       "      <th>end_time</th>\n",
       "      <th>start_station_id</th>\n",
       "      <th>start_station_name</th>\n",
       "      <th>end_station_id</th>\n",
       "      <th>end_station_name</th>\n",
       "      <th>bike_id</th>\n",
       "      <th>user_type</th>\n",
       "      <th>bike_share_for_all_trip</th>\n",
       "      <th>hour_of_day</th>\n",
       "      <th>day_of_week</th>\n",
       "      <th>distance_km</th>\n",
       "    </tr>\n",
       "  </thead>\n",
       "  <tbody>\n",
       "    <tr>\n",
       "      <th>0</th>\n",
       "      <td>80825</td>\n",
       "      <td>2019-01-31 17:57:44.613</td>\n",
       "      <td>2019-02-01 16:24:49.864</td>\n",
       "      <td>229</td>\n",
       "      <td>Foothill Blvd at 42nd Ave</td>\n",
       "      <td>196</td>\n",
       "      <td>Grand Ave at Perkins St</td>\n",
       "      <td>4861</td>\n",
       "      <td>Subscriber</td>\n",
       "      <td>No</td>\n",
       "      <td>17</td>\n",
       "      <td>Thursday</td>\n",
       "      <td>5.31</td>\n",
       "    </tr>\n",
       "    <tr>\n",
       "      <th>1</th>\n",
       "      <td>65900</td>\n",
       "      <td>2019-01-31 20:58:33.886</td>\n",
       "      <td>2019-02-01 15:16:54.173</td>\n",
       "      <td>4</td>\n",
       "      <td>Cyril Magnin St at Ellis St</td>\n",
       "      <td>134</td>\n",
       "      <td>Valencia St at 24th St</td>\n",
       "      <td>5506</td>\n",
       "      <td>Subscriber</td>\n",
       "      <td>No</td>\n",
       "      <td>20</td>\n",
       "      <td>Thursday</td>\n",
       "      <td>3.86</td>\n",
       "    </tr>\n",
       "    <tr>\n",
       "      <th>2</th>\n",
       "      <td>62633</td>\n",
       "      <td>2019-01-31 18:06:52.924</td>\n",
       "      <td>2019-02-01 11:30:46.530</td>\n",
       "      <td>245</td>\n",
       "      <td>Downtown Berkeley BART</td>\n",
       "      <td>157</td>\n",
       "      <td>65th St at Hollis St</td>\n",
       "      <td>2717</td>\n",
       "      <td>Customer</td>\n",
       "      <td>No</td>\n",
       "      <td>18</td>\n",
       "      <td>Thursday</td>\n",
       "      <td>3.29</td>\n",
       "    </tr>\n",
       "    <tr>\n",
       "      <th>3</th>\n",
       "      <td>44680</td>\n",
       "      <td>2019-01-31 19:46:09.719</td>\n",
       "      <td>2019-02-01 08:10:50.318</td>\n",
       "      <td>85</td>\n",
       "      <td>Church St at Duboce Ave</td>\n",
       "      <td>53</td>\n",
       "      <td>Grove St at Divisadero</td>\n",
       "      <td>4557</td>\n",
       "      <td>Customer</td>\n",
       "      <td>No</td>\n",
       "      <td>19</td>\n",
       "      <td>Thursday</td>\n",
       "      <td>1.00</td>\n",
       "    </tr>\n",
       "    <tr>\n",
       "      <th>4</th>\n",
       "      <td>60709</td>\n",
       "      <td>2019-01-31 14:19:01.541</td>\n",
       "      <td>2019-02-01 07:10:51.065</td>\n",
       "      <td>16</td>\n",
       "      <td>Steuart St at Market St</td>\n",
       "      <td>28</td>\n",
       "      <td>The Embarcadero at Bryant St</td>\n",
       "      <td>2100</td>\n",
       "      <td>Customer</td>\n",
       "      <td>No</td>\n",
       "      <td>14</td>\n",
       "      <td>Thursday</td>\n",
       "      <td>0.95</td>\n",
       "    </tr>\n",
       "  </tbody>\n",
       "</table>\n",
       "</div>"
      ],
      "text/plain": [
       "   duration_sec              start_time                end_time  \\\n",
       "0         80825 2019-01-31 17:57:44.613 2019-02-01 16:24:49.864   \n",
       "1         65900 2019-01-31 20:58:33.886 2019-02-01 15:16:54.173   \n",
       "2         62633 2019-01-31 18:06:52.924 2019-02-01 11:30:46.530   \n",
       "3         44680 2019-01-31 19:46:09.719 2019-02-01 08:10:50.318   \n",
       "4         60709 2019-01-31 14:19:01.541 2019-02-01 07:10:51.065   \n",
       "\n",
       "   start_station_id           start_station_name  end_station_id  \\\n",
       "0               229    Foothill Blvd at 42nd Ave             196   \n",
       "1                 4  Cyril Magnin St at Ellis St             134   \n",
       "2               245       Downtown Berkeley BART             157   \n",
       "3                85      Church St at Duboce Ave              53   \n",
       "4                16      Steuart St at Market St              28   \n",
       "\n",
       "               end_station_name  bike_id   user_type bike_share_for_all_trip  \\\n",
       "0       Grand Ave at Perkins St     4861  Subscriber                      No   \n",
       "1        Valencia St at 24th St     5506  Subscriber                      No   \n",
       "2          65th St at Hollis St     2717    Customer                      No   \n",
       "3        Grove St at Divisadero     4557    Customer                      No   \n",
       "4  The Embarcadero at Bryant St     2100    Customer                      No   \n",
       "\n",
       "   hour_of_day day_of_week  distance_km  \n",
       "0           17    Thursday         5.31  \n",
       "1           20    Thursday         3.86  \n",
       "2           18    Thursday         3.29  \n",
       "3           19    Thursday         1.00  \n",
       "4           14    Thursday         0.95  "
      ]
     },
     "execution_count": 21,
     "metadata": {},
     "output_type": "execute_result"
    }
   ],
   "source": [
    "# check changes\n",
    "rides.head()"
   ]
  },
  {
   "cell_type": "code",
   "execution_count": 22,
   "metadata": {
    "slideshow": {
     "slide_type": "skip"
    }
   },
   "outputs": [
    {
     "data": {
      "text/html": [
       "<div>\n",
       "<style scoped>\n",
       "    .dataframe tbody tr th:only-of-type {\n",
       "        vertical-align: middle;\n",
       "    }\n",
       "\n",
       "    .dataframe tbody tr th {\n",
       "        vertical-align: top;\n",
       "    }\n",
       "\n",
       "    .dataframe thead th {\n",
       "        text-align: right;\n",
       "    }\n",
       "</style>\n",
       "<table border=\"1\" class=\"dataframe\">\n",
       "  <thead>\n",
       "    <tr style=\"text-align: right;\">\n",
       "      <th></th>\n",
       "      <th>duration_sec</th>\n",
       "      <th>start_station_id</th>\n",
       "      <th>end_station_id</th>\n",
       "      <th>bike_id</th>\n",
       "      <th>hour_of_day</th>\n",
       "      <th>distance_km</th>\n",
       "    </tr>\n",
       "  </thead>\n",
       "  <tbody>\n",
       "    <tr>\n",
       "      <th>count</th>\n",
       "      <td>191834.000000</td>\n",
       "      <td>191834.000000</td>\n",
       "      <td>191834.000000</td>\n",
       "      <td>191834.000000</td>\n",
       "      <td>191834.000000</td>\n",
       "      <td>191834.000000</td>\n",
       "    </tr>\n",
       "    <tr>\n",
       "      <th>mean</th>\n",
       "      <td>750.258635</td>\n",
       "      <td>132.841639</td>\n",
       "      <td>131.218700</td>\n",
       "      <td>4028.841321</td>\n",
       "      <td>13.500250</td>\n",
       "      <td>1.698282</td>\n",
       "    </tr>\n",
       "    <tr>\n",
       "      <th>std</th>\n",
       "      <td>1670.124794</td>\n",
       "      <td>109.662417</td>\n",
       "      <td>109.546275</td>\n",
       "      <td>1572.295525</td>\n",
       "      <td>4.768237</td>\n",
       "      <td>1.104061</td>\n",
       "    </tr>\n",
       "    <tr>\n",
       "      <th>min</th>\n",
       "      <td>61.000000</td>\n",
       "      <td>3.000000</td>\n",
       "      <td>3.000000</td>\n",
       "      <td>11.000000</td>\n",
       "      <td>0.000000</td>\n",
       "      <td>0.000000</td>\n",
       "    </tr>\n",
       "    <tr>\n",
       "      <th>25%</th>\n",
       "      <td>333.000000</td>\n",
       "      <td>43.000000</td>\n",
       "      <td>41.000000</td>\n",
       "      <td>3085.000000</td>\n",
       "      <td>9.000000</td>\n",
       "      <td>0.910000</td>\n",
       "    </tr>\n",
       "    <tr>\n",
       "      <th>50%</th>\n",
       "      <td>528.000000</td>\n",
       "      <td>98.000000</td>\n",
       "      <td>95.000000</td>\n",
       "      <td>4749.000000</td>\n",
       "      <td>14.000000</td>\n",
       "      <td>1.440000</td>\n",
       "    </tr>\n",
       "    <tr>\n",
       "      <th>75%</th>\n",
       "      <td>821.000000</td>\n",
       "      <td>211.000000</td>\n",
       "      <td>203.000000</td>\n",
       "      <td>5173.000000</td>\n",
       "      <td>17.000000</td>\n",
       "      <td>2.240000</td>\n",
       "    </tr>\n",
       "    <tr>\n",
       "      <th>max</th>\n",
       "      <td>84002.000000</td>\n",
       "      <td>385.000000</td>\n",
       "      <td>385.000000</td>\n",
       "      <td>6638.000000</td>\n",
       "      <td>23.000000</td>\n",
       "      <td>61.280000</td>\n",
       "    </tr>\n",
       "  </tbody>\n",
       "</table>\n",
       "</div>"
      ],
      "text/plain": [
       "        duration_sec  start_station_id  end_station_id        bike_id  \\\n",
       "count  191834.000000     191834.000000   191834.000000  191834.000000   \n",
       "mean      750.258635        132.841639      131.218700    4028.841321   \n",
       "std      1670.124794        109.662417      109.546275    1572.295525   \n",
       "min        61.000000          3.000000        3.000000      11.000000   \n",
       "25%       333.000000         43.000000       41.000000    3085.000000   \n",
       "50%       528.000000         98.000000       95.000000    4749.000000   \n",
       "75%       821.000000        211.000000      203.000000    5173.000000   \n",
       "max     84002.000000        385.000000      385.000000    6638.000000   \n",
       "\n",
       "         hour_of_day    distance_km  \n",
       "count  191834.000000  191834.000000  \n",
       "mean       13.500250       1.698282  \n",
       "std         4.768237       1.104061  \n",
       "min         0.000000       0.000000  \n",
       "25%         9.000000       0.910000  \n",
       "50%        14.000000       1.440000  \n",
       "75%        17.000000       2.240000  \n",
       "max        23.000000      61.280000  "
      ]
     },
     "execution_count": 22,
     "metadata": {},
     "output_type": "execute_result"
    }
   ],
   "source": [
    "rides.describe()"
   ]
  },
  {
   "cell_type": "code",
   "execution_count": 23,
   "metadata": {
    "slideshow": {
     "slide_type": "skip"
    }
   },
   "outputs": [
    {
     "data": {
      "image/png": "[encoded data removed]",
      "text/plain": [
       "<Figure size 576x360 with 1 Axes>"
      ]
     },
     "metadata": {
      "needs_background": "light"
     },
     "output_type": "display_data"
    }
   ],
   "source": [
    "# plotting trip distance on a standard scale\n",
    "binsize = 1\n",
    "bins = np.arange(0, rides['distance_km'].max()+binsize, binsize)\n",
    "\n",
    "plt.figure(figsize=[8, 5])\n",
    "plt.hist(data = rides, x = 'distance_km', bins = bins)\n",
    "plt.xlabel('Distance (km)')\n",
    "plt.ylabel('Number of Trips')\n",
    "plt.title('Distribution of Trip Distance')\n",
    "plt.axis([0, 65, 0, 80000])\n",
    "plt.show();"
   ]
  },
  {
   "cell_type": "code",
   "execution_count": 24,
   "metadata": {
    "slideshow": {
     "slide_type": "skip"
    }
   },
   "outputs": [
    {
     "data": {
      "image/png": "[encoded data removed]",
      "text/plain": [
       "<Figure size 576x360 with 1 Axes>"
      ]
     },
     "metadata": {
      "needs_background": "light"
     },
     "output_type": "display_data"
    }
   ],
   "source": [
    "# plotting trip distance on a log scale\n",
    "plt.figure(figsize=[8, 5])\n",
    "plt.hist(data = rides, x = 'distance_km', bins = 100, log=True)\n",
    "plt.xlabel('Distance (km)')\n",
    "plt.ylabel('Number of Trips (log)')\n",
    "plt.title('Distribution of Trip Distance (log)')\n",
    "plt.show();"
   ]
  },
  {
   "cell_type": "markdown",
   "metadata": {
    "slideshow": {
     "slide_type": "skip"
    }
   },
   "source": [
    "- **Trip distance has a right-skewed distribution, with most trips are less than 10 km, and very few have further distance.**\n",
    "- **After plotting on a log-scale, the trip duration distribution clearly looks right-skewed too, with some outliers between 10 - 15 km and over 60km.**\n",
    "\n",
    "I'll now look at the other features in the data to see if any of them hold interesting properties, i.e. start_station_id, end_station_id, and bike_share_for_all_trip."
   ]
  },
  {
   "cell_type": "markdown",
   "metadata": {
    "slideshow": {
     "slide_type": "skip"
    }
   },
   "source": [
    "<a id='be'></a>\n",
    "## Bivariate Exploration\n",
    "\n",
    "To start off with, I want to look at the pairwise correlations present between different variables in the data."
   ]
  },
  {
   "cell_type": "markdown",
   "metadata": {
    "slideshow": {
     "slide_type": "slide"
    }
   },
   "source": [
    "## Trip Duration vs User Type\n",
    "From below two voilin plots, on average, we can see that subscribers spent less time than customers on each trip."
   ]
  },
  {
   "cell_type": "code",
   "execution_count": 25,
   "metadata": {
    "slideshow": {
     "slide_type": "subslide"
    }
   },
   "outputs": [
    {
     "data": {
      "image/png": "[encoded data removed]",
      "text/plain": [
       "<Figure size 576x360 with 1 Axes>"
      ]
     },
     "metadata": {
      "needs_background": "light"
     },
     "output_type": "display_data"
    }
   ],
   "source": [
    "# User Type and Duration plot\n",
    "plt.figure(figsize=[8, 5])\n",
    "sb.violinplot(data = rides, x = 'user_type', y = 'duration_sec')\n",
    "plt.ylim([-1000, 10000])\n",
    "plt.xlabel('User Type')\n",
    "plt.ylabel('Trip Duration (sec)')\n",
    "plt.title('Trip Duration vs User Type')\n",
    "plt.show();"
   ]
  },
  {
   "cell_type": "markdown",
   "metadata": {
    "slideshow": {
     "slide_type": "slide"
    }
   },
   "source": [
    "## Trip Duration vs Hour of The Day\n",
    "\n",
    "Interestingly, it shows that trip duration reaches the first peak at about 1750 seconds between 0-3 am time period, then the second peak at about 900 seconds around 2pm. During the busy hours, the average trip duration is pretty low, which is about 550 seconds."
   ]
  },
  {
   "cell_type": "code",
   "execution_count": 26,
   "metadata": {
    "slideshow": {
     "slide_type": "subslide"
    }
   },
   "outputs": [
    {
     "data": {
      "image/png": "[encoded data removed]",
      "text/plain": [
       "<Figure size 576x360 with 1 Axes>"
      ]
     },
     "metadata": {
      "needs_background": "light"
     },
     "output_type": "display_data"
    }
   ],
   "source": [
    "# Trip Duration vs Hour of The Day plot\n",
    "plt.figure(figsize=[8, 5])\n",
    "base_color = sb.color_palette()[0]\n",
    "sb.barplot(data=rides, x='hour_of_day',y='duration_sec', color = base_color).set_title('Trip Duration vs Hour of The Day');\n"
   ]
  },
  {
   "cell_type": "markdown",
   "metadata": {
    "slideshow": {
     "slide_type": "slide"
    }
   },
   "source": [
    "## Trip Duration vs Day of The Week\n",
    "\n",
    "From Monday to Friday, the trip duration are basically flat, which are 500 seconds on average. Saturday and Sunday are obviously higher, which is between 600 - 1000 seconds."
   ]
  },
  {
   "cell_type": "code",
   "execution_count": 27,
   "metadata": {
    "slideshow": {
     "slide_type": "subslide"
    }
   },
   "outputs": [
    {
     "data": {
      "image/png": "[encoded data removed]",
      "text/plain": [
       "<Figure size 720x576 with 1 Axes>"
      ]
     },
     "metadata": {
      "needs_background": "light"
     },
     "output_type": "display_data"
    }
   ],
   "source": [
    "# Trip Duration vs Day of The Week plot\n",
    "plt.figure(figsize=[10, 8])\n",
    "sb.boxplot(data = rides, x = 'day_of_week', y = 'duration_sec')\n",
    "plt.ylim([0, 3600])\n",
    "plt.xlabel('Day of The Week')\n",
    "plt.ylabel('Trip Duration (sec)')\n",
    "plt.title('Trip Duration vs Day of The Week')\n",
    "plt.show();"
   ]
  },
  {
   "cell_type": "markdown",
   "metadata": {
    "slideshow": {
     "slide_type": "slide"
    }
   },
   "source": [
    "## Trip Duration vs Trip Distance\n",
    "By looking at the chart below, it doesn't see trip distance and its duration have a strong correlation. However, it does show that majority of trips are within 10 km and 3000 seconds."
   ]
  },
  {
   "cell_type": "code",
   "execution_count": 28,
   "metadata": {
    "slideshow": {
     "slide_type": "subslide"
    }
   },
   "outputs": [
    {
     "data": {
      "image/png": "[encoded data removed]",
      "text/plain": [
       "<Figure size 720x432 with 1 Axes>"
      ]
     },
     "metadata": {
      "needs_background": "light"
     },
     "output_type": "display_data"
    }
   ],
   "source": [
    "# Trip Duration vs Trip Distance plot\n",
    "plt.figure(figsize=[10, 6])\n",
    "plt.scatter(data = rides, x = 'distance_km', y = 'duration_sec', alpha = 0.25)\n",
    "plt.xlabel('Trip Distance (km)')\n",
    "plt.ylabel('Trip Duration (sec)')\n",
    "plt.title('Trip Duration vs Trip Distance')\n",
    "plt.axis([0, 65, 0, 8000]);"
   ]
  },
  {
   "cell_type": "markdown",
   "metadata": {
    "slideshow": {
     "slide_type": "skip"
    }
   },
   "source": [
    "<a id='me'></a>\n",
    "## Multivariate Exploration\n",
    "\n",
    "The main thing I want to explore in this part of the analysis is how the two categorical measures of\n",
    "user type play into the relationship between trip duration, hour of the day, and day of the week."
   ]
  },
  {
   "cell_type": "markdown",
   "metadata": {
    "slideshow": {
     "slide_type": "slide"
    }
   },
   "source": [
    "## Trip Duration vs Hour of The Day vs User Type\n",
    "\n",
    "- The change in Subscriber seems to be fairly smooth over time, but the change in Customer is jerkier.\n",
    "- There are three peaks that having longer time duration in Customer, which are 2-3 am, 1pm, and 10pm.\n",
    "- Only one peak having longer time duration in Subscriber, which is around 2am."
   ]
  },
  {
   "cell_type": "code",
   "execution_count": 29,
   "metadata": {
    "slideshow": {
     "slide_type": "subslide"
    }
   },
   "outputs": [
    {
     "data": {
      "image/png": "[encoded data removed]",
      "text/plain": [
       "<Figure size 1080x720 with 1 Axes>"
      ]
     },
     "metadata": {
      "needs_background": "light"
     },
     "output_type": "display_data"
    }
   ],
   "source": [
    "plt.figure(figsize = [15, 10])\n",
    "sb.barplot(data = rides, x = 'hour_of_day', y = 'duration_sec', hue = 'user_type')\n",
    "plt.title('Trip Duration vs Hour of The Day vs User Type');"
   ]
  },
  {
   "cell_type": "markdown",
   "metadata": {
    "slideshow": {
     "slide_type": "slide"
    }
   },
   "source": [
    "## Trip Duration vs Day of The Week vs User Type\n",
    "\n",
    "- The time duration in Customer goes small ups and downs frequently during the week and reaches a peak on Saturday while there is no big overall changes in Subscriber.\n",
    "- Both users have the highest average of time duration in the weekend."
   ]
  },
  {
   "cell_type": "code",
   "execution_count": 30,
   "metadata": {
    "slideshow": {
     "slide_type": "subslide"
    }
   },
   "outputs": [
    {
     "data": {
      "image/png": "[encoded data removed]",
      "text/plain": [
       "<Figure size 720x576 with 1 Axes>"
      ]
     },
     "metadata": {
      "needs_background": "light"
     },
     "output_type": "display_data"
    }
   ],
   "source": [
    "plt.figure(figsize = [10, 8])\n",
    "sb.barplot(data = rides, x = 'day_of_week', y = 'duration_sec', hue = 'user_type')\n",
    "plt.title('Trip Duration vs Day of The Week vs User Type');"
   ]
  },
  {
   "cell_type": "markdown",
   "metadata": {
    "slideshow": {
     "slide_type": "slide"
    }
   },
   "source": [
    "## Hour of The Day vs Day of The Week vs User Type\n",
    "\n",
    "- It is most likely that customers use bike share during weekeend afternoon, especially on Saturday, even they also use it pretty much during busy hours in weekdays.\n",
    "- Subscribers use bike share a lot during rush hours in weekdays and not much in the weekend.\n",
    "- Customers use bike share much more during weekend than subscribers, probably for the purpose of entertainment, and their trip durations are longer than other days.\n"
   ]
  },
  {
   "cell_type": "code",
   "execution_count": 31,
   "metadata": {
    "slideshow": {
     "slide_type": "subslide"
    }
   },
   "outputs": [
    {
     "data": {
      "image/png": "[encoded data removed]",
      "text/plain": [
       "<Figure size 720x720 with 4 Axes>"
      ]
     },
     "metadata": {
      "needs_background": "light"
     },
     "output_type": "display_data"
    }
   ],
   "source": [
    "# count number for Customer\n",
    "customer = rides.query('user_type == \"Customer\"').groupby(['day_of_week', 'hour_of_day']).size()\n",
    "customer = customer.reset_index(name='count')\n",
    "customer = customer.pivot(index='day_of_week', columns='hour_of_day', values='count')\n",
    "\n",
    "# count number for Subscriber\n",
    "subscriber = rides.query('user_type == \"Subscriber\"').groupby(['day_of_week', 'hour_of_day']).size()\n",
    "subscriber = subscriber.reset_index(name='count')\n",
    "subscriber = subscriber.pivot(index='day_of_week', columns='hour_of_day', values='count')\n",
    "\n",
    "# plot both data\n",
    "plt.figure(figsize=(10,10))\n",
    "\n",
    "plt.subplot(2, 1, 1)\n",
    "sb.heatmap(customer, cmap='Greys', cbar_kws = {'label' : 'count'})\n",
    "plt.title('Hour vs Day vs Customer')\n",
    "plt.xlabel('Hour of day')\n",
    "plt.ylabel('Day of week');\n",
    "\n",
    "plt.subplot(2, 1, 2)\n",
    "sb.heatmap(subscriber, cmap='Greys', cbar_kws = {'label' : 'count'})\n",
    "plt.title('Hour vs Day vs Subscriber')\n",
    "plt.xlabel('Hour of day')\n",
    "plt.ylabel('Day of week');"
   ]
  },
  {
   "cell_type": "markdown",
   "metadata": {
    "slideshow": {
     "slide_type": "slide"
    }
   },
   "source": [
    "## Conclusion\n",
    "1. On average, customers spent more time than subscribers on each trip.\n",
    "2. Trip duration in 0-3 am time period is longer than other hours of the day for both users. \n",
    "3. Subscribers use bike share a lot during rush hours in weekdays and not much in the weekend.\n",
    "4. Customers use bike share much more during weekend, especially on Saturday afternoon, probably for the purpose of entertainment, and their trip durations are longer than other days.\n",
    "5. Trip distance doesn't have a strong correlation with its duration."
   ]
  },
  {
   "cell_type": "markdown",
   "metadata": {
    "slideshow": {
     "slide_type": "slide"
    }
   },
   "source": [
    "## Thank You!!"
   ]
  },
  {
   "cell_type": "code",
   "execution_count": null,
   "metadata": {},
   "outputs": [],
   "source": []
  }
 ],
 "metadata": {
  "celltoolbar": "Slideshow",
  "kernelspec": {
   "display_name": "Python 3",
   "language": "python",
   "name": "python3"
  },
  "language_info": {
   "codemirror_mode": {
    "name": "ipython",
    "version": 3
   },
   "file_extension": ".py",
   "mimetype": "text/x-python",
   "name": "python",
   "nbconvert_exporter": "python",
   "pygments_lexer": "ipython3",
   "version": "3.7.6"
  }
 },
 "nbformat": 4,
 "nbformat_minor": 2
}
